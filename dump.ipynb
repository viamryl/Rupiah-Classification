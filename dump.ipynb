{
 "cells": [
  {
   "cell_type": "code",
   "execution_count": 1,
   "metadata": {},
   "outputs": [],
   "source": [
    "import os"
   ]
  },
  {
   "cell_type": "code",
   "execution_count": 20,
   "metadata": {},
   "outputs": [],
   "source": [
    "def main():\n",
    "\ti = 0\n",
    "\tpath=\"C:\\\\Users\\\\VA\\\\Documents\\\\workspace\\\\dataset\\\\test\\\\seratus\"\n",
    "\t\n",
    "\tfor count, filename in enumerate(os.listdir(path)):\n",
    "\t\tdst = f\"seratus{str(count)}.jpg\"\n",
    "\t\tsrc =f\"{path}/{filename}\"  # foldername/filename, if .py file is outside folder\n",
    "\t\tdst =f\"{path}/{dst}\"\n",
    "\t\tos.rename(src, dst)\n",
    "# Driver Code\n",
    "if __name__ == '__main__':\n",
    "\t# Calling main() function\n",
    "\tmain()"
   ]
  },
  {
   "cell_type": "code",
   "execution_count": null,
   "metadata": {},
   "outputs": [],
   "source": []
  }
 ],
 "metadata": {
  "kernelspec": {
   "display_name": "Python 3",
   "language": "python",
   "name": "python3"
  },
  "language_info": {
   "codemirror_mode": {
    "name": "ipython",
    "version": 3
   },
   "file_extension": ".py",
   "mimetype": "text/x-python",
   "name": "python",
   "nbconvert_exporter": "python",
   "pygments_lexer": "ipython3",
   "version": "3.11.3"
  },
  "orig_nbformat": 4
 },
 "nbformat": 4,
 "nbformat_minor": 2
}
