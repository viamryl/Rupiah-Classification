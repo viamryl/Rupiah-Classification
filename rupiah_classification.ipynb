{
  "cells": [
    {
      "attachments": {},
      "cell_type": "markdown",
      "metadata": {
        "colab_type": "text",
        "id": "view-in-github"
      },
      "source": [
        "<a href=\"https://colab.research.google.com/github/mesushan/CNN-for-image-Classification/blob/master/cnn_for_image_classification.ipynb\" target=\"_parent\"><img src=\"https://colab.research.google.com/assets/colab-badge.svg\" alt=\"Open In Colab\"/></a>"
      ]
    },
    {
      "cell_type": "code",
      "execution_count": 1,
      "metadata": {
        "colab": {},
        "colab_type": "code",
        "id": "9S_E5AgNJkNA"
      },
      "outputs": [],
      "source": [
        "import tensorflow as tf"
      ]
    },
    {
      "cell_type": "code",
      "execution_count": 2,
      "metadata": {},
      "outputs": [],
      "source": [
        "input_size = (128, 128)\n",
        "model = tf.keras.models.Sequential([\n",
        "    tf.keras.layers.Conv2D(128,(3,3),activation = \"relu\"),  \n",
        "    tf.keras.layers.MaxPooling2D(2,2),\n",
        "    tf.keras.layers.Conv2D(64,(3,3),activation = \"relu\") ,  \n",
        "    tf.keras.layers.MaxPooling2D(2,2),\n",
        "    tf.keras.layers.Conv2D(32,(3,3),activation = \"relu\") ,  \n",
        "    tf.keras.layers.MaxPooling2D(2,2),\n",
        "    tf.keras.layers.Conv2D(16,(3,3),activation = \"relu\" , input_shape = (input_size[0], input_size[1],3)) ,\n",
        "    tf.keras.layers.MaxPooling2D(2,2),\n",
        "    tf.keras.layers.Flatten(), \n",
        "    # tf.keras.layers.Dense(550,activation=\"relu\"),      #Adding the Hidden layer\n",
        "    # tf.keras.layers.Dropout(0.1,seed = 2019),\n",
        "    # tf.keras.layers.Dense(400,activation =\"relu\"),\n",
        "    # tf.keras.layers.Dropout(0.3,seed = 2019),\n",
        "    # tf.keras.layers.Dense(300,activation=\"relu\"),\n",
        "    # tf.keras.layers.Dropout(0.4,seed = 2019),\n",
        "    tf.keras.layers.Dense(128,activation =\"relu\"),\n",
        "    tf.keras.layers.Dropout(0.2,seed = 2019),\n",
        "    tf.keras.layers.Dense(7,activation = \"softmax\")   #Adding the Output Layer\n",
        "])"
      ]
    },
    {
      "cell_type": "code",
      "execution_count": 3,
      "metadata": {
        "colab": {},
        "colab_type": "code",
        "id": "bS6MNMEzKBxs"
      },
      "outputs": [],
      "source": [
        "# Initialising the CNN\n",
        "# model = tf.keras.models.Sequential()"
      ]
    },
    {
      "cell_type": "code",
      "execution_count": 4,
      "metadata": {
        "colab": {},
        "colab_type": "code",
        "id": "q1p3ZYBEKnQD"
      },
      "outputs": [],
      "source": [
        "# 32 feature detectors with 3*3 dimensions so the convolution layer compose of 32 feature maps\n",
        "# 128 by 128 dimensions with colored image(3 channels)  (tensorflow backend)\n",
        "# input_size = (128, 128)\n",
        "# model.add(tf.keras.layers.Convolution2D(32, 3, 3, input_shape = (input_size[0], input_size[1],3), activation = 'relu'))"
      ]
    },
    {
      "cell_type": "code",
      "execution_count": 5,
      "metadata": {
        "colab": {},
        "colab_type": "code",
        "id": "qEiPkwwULNeC"
      },
      "outputs": [],
      "source": [
        "# reduce the size of feature maps and therefore reduce the number of nodes in the future fully connected layer (reduce time complexity, less compute intense without losing the performace). 2 by 2 deminsion is the recommended option\n",
        "# model.add(tf.keras.layers.MaxPooling2D(pool_size = (3, 3)))"
      ]
    },
    {
      "cell_type": "code",
      "execution_count": 6,
      "metadata": {
        "colab": {},
        "colab_type": "code",
        "id": "yoh6opl-MPpA"
      },
      "outputs": [],
      "source": [
        "# model.add(tf.keras.layers.Convolution2D(64, 3, 3, activation = 'relu'))\n",
        "# model.add(tf.keras.layers.MaxPooling2D(pool_size = (2, 2)))"
      ]
    },
    {
      "cell_type": "code",
      "execution_count": 7,
      "metadata": {
        "colab": {},
        "colab_type": "code",
        "id": "ryYAi7KIMd6n"
      },
      "outputs": [],
      "source": [
        "# flatten all the feature maps in the pooling layer into single vector\n",
        "# model.add(tf.keras.layers.Flatten())"
      ]
    },
    {
      "cell_type": "code",
      "execution_count": 8,
      "metadata": {
        "colab": {},
        "colab_type": "code",
        "id": "MIo_G3EeMlAo"
      },
      "outputs": [],
      "source": [
        "# making classic ann which compose of fully connected layers\n",
        "# number of nodes in hidden layer (output_dim) (common practice is to take the power of 2)\n",
        "# model.add(tf.keras.layers.Dense(units = 128, activation = 'relu'))\n",
        "# # model.add(tf.keras.layers.Dropout(0.5))\n",
        "# model.add(tf.keras.layers.Dense(units = 7, activation = 'softmax'))"
      ]
    },
    {
      "cell_type": "code",
      "execution_count": 9,
      "metadata": {
        "colab": {},
        "colab_type": "code",
        "id": "4jwlI36vMvJW"
      },
      "outputs": [],
      "source": [
        "# Compiling the CNN\n",
        "model.compile(optimizer = 'adam', loss = 'categorical_crossentropy', metrics = ['accuracy'])"
      ]
    },
    {
      "cell_type": "code",
      "execution_count": 10,
      "metadata": {
        "colab": {
          "base_uri": "https://localhost:8080/",
          "height": 1000
        },
        "colab_type": "code",
        "id": "ggxWEo0-M1h3",
        "outputId": "ed4717df-e4b5-426f-a81d-d575554d0842"
      },
      "outputs": [
        {
          "name": "stdout",
          "output_type": "stream",
          "text": [
            "Found 688 images belonging to 7 classes.\n",
            "Found 187 images belonging to 7 classes.\n",
            "Epoch 1/50\n",
            "14/14 [==============================] - 4s 259ms/step - loss: 1.6947 - accuracy: 0.2660 - val_loss: 1.6654 - val_accuracy: 0.2834\n",
            "Epoch 2/50\n",
            "14/14 [==============================] - 3s 194ms/step - loss: 1.5620 - accuracy: 0.4259 - val_loss: 1.5173 - val_accuracy: 0.5508\n",
            "Epoch 3/50\n",
            "14/14 [==============================] - 3s 196ms/step - loss: 1.4252 - accuracy: 0.5247 - val_loss: 1.4103 - val_accuracy: 0.4652\n",
            "Epoch 4/50\n",
            "14/14 [==============================] - 3s 195ms/step - loss: 1.2973 - accuracy: 0.5262 - val_loss: 1.2462 - val_accuracy: 0.5936\n",
            "Epoch 5/50\n",
            "14/14 [==============================] - 3s 198ms/step - loss: 1.2031 - accuracy: 0.5610 - val_loss: 1.2381 - val_accuracy: 0.5882\n",
            "Epoch 6/50\n",
            "14/14 [==============================] - 3s 192ms/step - loss: 1.1754 - accuracy: 0.5814 - val_loss: 1.2569 - val_accuracy: 0.5241\n",
            "Epoch 7/50\n",
            "14/14 [==============================] - 3s 195ms/step - loss: 1.1155 - accuracy: 0.5959 - val_loss: 1.0944 - val_accuracy: 0.5882\n",
            "Epoch 8/50\n",
            "14/14 [==============================] - 3s 191ms/step - loss: 1.0642 - accuracy: 0.6206 - val_loss: 1.0890 - val_accuracy: 0.6043\n",
            "Epoch 9/50\n",
            "14/14 [==============================] - 3s 198ms/step - loss: 1.0184 - accuracy: 0.6410 - val_loss: 1.0652 - val_accuracy: 0.6257\n",
            "Epoch 10/50\n",
            "14/14 [==============================] - 3s 199ms/step - loss: 1.0016 - accuracy: 0.6395 - val_loss: 0.9894 - val_accuracy: 0.6738\n",
            "Epoch 11/50\n",
            "14/14 [==============================] - 3s 197ms/step - loss: 0.9169 - accuracy: 0.6817 - val_loss: 0.9598 - val_accuracy: 0.6364\n",
            "Epoch 12/50\n",
            "14/14 [==============================] - 3s 195ms/step - loss: 0.8657 - accuracy: 0.6846 - val_loss: 0.8905 - val_accuracy: 0.6471\n",
            "Epoch 13/50\n",
            "14/14 [==============================] - 3s 197ms/step - loss: 0.8301 - accuracy: 0.7180 - val_loss: 0.8035 - val_accuracy: 0.7326\n",
            "Epoch 14/50\n",
            "14/14 [==============================] - 3s 201ms/step - loss: 0.7465 - accuracy: 0.7384 - val_loss: 0.7906 - val_accuracy: 0.7647\n",
            "Epoch 15/50\n",
            "14/14 [==============================] - 3s 194ms/step - loss: 0.7055 - accuracy: 0.7660 - val_loss: 0.7856 - val_accuracy: 0.7166\n",
            "Epoch 16/50\n",
            "14/14 [==============================] - 3s 198ms/step - loss: 0.6415 - accuracy: 0.7863 - val_loss: 0.7263 - val_accuracy: 0.7433\n",
            "Epoch 17/50\n",
            "14/14 [==============================] - 3s 199ms/step - loss: 0.6379 - accuracy: 0.7849 - val_loss: 0.6605 - val_accuracy: 0.7647\n",
            "Epoch 18/50\n",
            "14/14 [==============================] - 3s 196ms/step - loss: 0.6225 - accuracy: 0.7849 - val_loss: 0.7353 - val_accuracy: 0.7219\n",
            "Epoch 19/50\n",
            "14/14 [==============================] - 3s 198ms/step - loss: 0.5940 - accuracy: 0.8052 - val_loss: 0.7117 - val_accuracy: 0.7380\n",
            "Epoch 20/50\n",
            "14/14 [==============================] - 3s 199ms/step - loss: 0.5747 - accuracy: 0.8038 - val_loss: 0.7489 - val_accuracy: 0.7219\n",
            "Epoch 21/50\n",
            "14/14 [==============================] - 3s 195ms/step - loss: 0.5438 - accuracy: 0.8358 - val_loss: 0.6679 - val_accuracy: 0.7861\n",
            "Epoch 22/50\n",
            "14/14 [==============================] - 3s 195ms/step - loss: 0.5275 - accuracy: 0.8285 - val_loss: 0.6214 - val_accuracy: 0.8075\n",
            "Epoch 23/50\n",
            "14/14 [==============================] - 3s 193ms/step - loss: 0.5083 - accuracy: 0.8358 - val_loss: 0.7846 - val_accuracy: 0.7219\n",
            "Epoch 24/50\n",
            "14/14 [==============================] - 3s 200ms/step - loss: 0.5146 - accuracy: 0.8430 - val_loss: 0.5836 - val_accuracy: 0.7914\n",
            "Epoch 25/50\n",
            "14/14 [==============================] - 3s 195ms/step - loss: 0.5117 - accuracy: 0.8285 - val_loss: 0.5903 - val_accuracy: 0.7914\n",
            "Epoch 26/50\n",
            "14/14 [==============================] - 3s 203ms/step - loss: 0.4665 - accuracy: 0.8503 - val_loss: 0.5237 - val_accuracy: 0.8556\n",
            "Epoch 27/50\n",
            "14/14 [==============================] - 3s 198ms/step - loss: 0.4803 - accuracy: 0.8474 - val_loss: 0.5929 - val_accuracy: 0.8396\n",
            "Epoch 28/50\n",
            "14/14 [==============================] - 3s 194ms/step - loss: 0.4778 - accuracy: 0.8488 - val_loss: 0.5491 - val_accuracy: 0.7968\n",
            "Epoch 29/50\n",
            "14/14 [==============================] - 3s 228ms/step - loss: 0.4964 - accuracy: 0.8285 - val_loss: 0.5767 - val_accuracy: 0.7914\n",
            "Epoch 30/50\n",
            "14/14 [==============================] - 3s 196ms/step - loss: 0.4397 - accuracy: 0.8590 - val_loss: 0.4825 - val_accuracy: 0.8610\n",
            "Epoch 31/50\n",
            "14/14 [==============================] - 3s 200ms/step - loss: 0.4372 - accuracy: 0.8590 - val_loss: 0.5055 - val_accuracy: 0.8449\n",
            "Epoch 32/50\n",
            "14/14 [==============================] - 3s 195ms/step - loss: 0.4233 - accuracy: 0.8692 - val_loss: 0.4953 - val_accuracy: 0.8717\n",
            "Epoch 33/50\n",
            "14/14 [==============================] - 3s 193ms/step - loss: 0.4057 - accuracy: 0.8881 - val_loss: 0.5327 - val_accuracy: 0.8556\n",
            "Epoch 34/50\n",
            "14/14 [==============================] - 3s 196ms/step - loss: 0.4156 - accuracy: 0.8663 - val_loss: 0.4994 - val_accuracy: 0.8449\n",
            "Epoch 35/50\n",
            "14/14 [==============================] - 3s 198ms/step - loss: 0.4220 - accuracy: 0.8779 - val_loss: 0.4445 - val_accuracy: 0.8717\n",
            "Epoch 36/50\n",
            "14/14 [==============================] - 3s 198ms/step - loss: 0.4047 - accuracy: 0.8663 - val_loss: 0.4965 - val_accuracy: 0.8663\n",
            "Epoch 37/50\n",
            "14/14 [==============================] - 3s 198ms/step - loss: 0.3466 - accuracy: 0.8924 - val_loss: 0.4940 - val_accuracy: 0.8663\n",
            "Epoch 38/50\n",
            "14/14 [==============================] - 3s 200ms/step - loss: 0.3445 - accuracy: 0.8852 - val_loss: 0.5594 - val_accuracy: 0.8289\n",
            "Epoch 39/50\n",
            "14/14 [==============================] - 3s 198ms/step - loss: 0.3879 - accuracy: 0.8721 - val_loss: 0.4849 - val_accuracy: 0.8770\n",
            "Epoch 40/50\n",
            "14/14 [==============================] - 3s 195ms/step - loss: 0.3308 - accuracy: 0.8968 - val_loss: 0.4125 - val_accuracy: 0.8770\n",
            "Epoch 41/50\n",
            "14/14 [==============================] - 3s 193ms/step - loss: 0.3393 - accuracy: 0.8953 - val_loss: 0.4887 - val_accuracy: 0.8663\n",
            "Epoch 42/50\n",
            "14/14 [==============================] - 3s 197ms/step - loss: 0.3436 - accuracy: 0.8852 - val_loss: 0.4652 - val_accuracy: 0.8717\n",
            "Epoch 43/50\n",
            "14/14 [==============================] - 3s 196ms/step - loss: 0.3032 - accuracy: 0.9055 - val_loss: 0.4374 - val_accuracy: 0.8663\n",
            "Epoch 44/50\n",
            "14/14 [==============================] - 3s 196ms/step - loss: 0.3100 - accuracy: 0.9055 - val_loss: 0.4856 - val_accuracy: 0.8610\n",
            "Epoch 45/50\n",
            "14/14 [==============================] - 3s 198ms/step - loss: 0.3123 - accuracy: 0.8852 - val_loss: 0.4799 - val_accuracy: 0.8770\n",
            "Epoch 46/50\n",
            "14/14 [==============================] - 3s 195ms/step - loss: 0.3003 - accuracy: 0.9128 - val_loss: 0.5053 - val_accuracy: 0.8556\n",
            "Epoch 47/50\n",
            "14/14 [==============================] - 3s 192ms/step - loss: 0.2964 - accuracy: 0.9070 - val_loss: 0.4701 - val_accuracy: 0.8717\n",
            "Epoch 48/50\n",
            "14/14 [==============================] - 3s 191ms/step - loss: 0.2893 - accuracy: 0.9128 - val_loss: 0.4189 - val_accuracy: 0.8717\n",
            "Epoch 49/50\n",
            "14/14 [==============================] - 3s 199ms/step - loss: 0.2755 - accuracy: 0.9099 - val_loss: 0.5024 - val_accuracy: 0.8663\n",
            "Epoch 50/50\n",
            "14/14 [==============================] - 3s 196ms/step - loss: 0.2930 - accuracy: 0.9055 - val_loss: 0.4453 - val_accuracy: 0.8770\n"
          ]
        },
        {
          "data": {
            "text/plain": [
              "<keras.callbacks.History at 0x2a09b6dae10>"
            ]
          },
          "execution_count": 10,
          "metadata": {},
          "output_type": "execute_result"
        }
      ],
      "source": [
        "# image augmentation technique to enrich our dataset(training set) without adding more images so get good performance  results with little or no overfitting even with the small amount of images\n",
        "# used from keras documentation (flow_from_directory method)\n",
        "\n",
        "from keras.preprocessing.image import ImageDataGenerator\n",
        "batch_size = 50\n",
        "# image augmentation part\n",
        "train_datagen = ImageDataGenerator(rescale = 1./255,\n",
        "                                   shear_range = 0.2,\n",
        "                                   zoom_range = 0.2,\n",
        "                                   horizontal_flip = True)\n",
        "\n",
        "test_datagen = ImageDataGenerator(rescale = 1./255)\n",
        "\n",
        "# create training set\n",
        "# wanna get higher accuracy -> inccrease target_size\n",
        "training_set = train_datagen.flow_from_directory('C:\\\\Users\\VA\\Documents\\workspace\\dump_cnn\\dataset\\\\train',\n",
        "                                                 target_size = input_size,\n",
        "                                                 batch_size = batch_size,\n",
        "                                                 class_mode = 'categorical')\n",
        "\n",
        "# create test set\n",
        "# wanna get higher accuracy -> inccrease target_size\n",
        "test_set = test_datagen.flow_from_directory('C:\\\\Users\\VA\\Documents\\workspace\\dump_cnn\\dataset\\\\test',\n",
        "                                            target_size = input_size,\n",
        "                                            batch_size = batch_size,\n",
        "                                            class_mode = 'categorical')\n",
        "\n",
        "# fit the cnn model to the trainig set and testing it on the test set\n",
        "model.fit(training_set,\n",
        "          steps_per_epoch = len(training_set),\n",
        "          epochs = 50,\n",
        "          validation_data = test_set,\n",
        "          validation_steps = len(test_set))"
      ]
    },
    {
      "cell_type": "code",
      "execution_count": null,
      "metadata": {},
      "outputs": [],
      "source": [
        "# model.save('cnn_v1.h5')"
      ]
    },
    {
      "cell_type": "code",
      "execution_count": 11,
      "metadata": {
        "colab": {},
        "colab_type": "code",
        "id": "zkpQ9_Bbdgug"
      },
      "outputs": [],
      "source": [
        "import numpy as np\n",
        "import keras.utils as image\n",
        "# from keras.preprocessing import image"
      ]
    },
    {
      "cell_type": "code",
      "execution_count": 12,
      "metadata": {
        "colab": {},
        "colab_type": "code",
        "id": "OARxcBiKqhaP"
      },
      "outputs": [
        {
          "name": "stdout",
          "output_type": "stream",
          "text": [
            "1/1 [==============================] - 0s 68ms/step\n"
          ]
        }
      ],
      "source": [
        "test_image = image.load_img('C:\\\\Users\\VA\\Documents\\workspace\\dump_cnn\\dataset\\\\predict\\\\lmpl994.jpeg', target_size= input_size)\n",
        "test_image = image.img_to_array(test_image)\n",
        "test_image = np.expand_dims(test_image, axis = 0)\n",
        "result = model.predict(test_image)\n",
        "test_image = test_image/255.0"
      ]
    },
    {
      "cell_type": "code",
      "execution_count": 13,
      "metadata": {},
      "outputs": [
        {
          "data": {
            "text/plain": [
              "{'duapuluh': 0,\n",
              " 'duaribu': 1,\n",
              " 'limapuluh': 2,\n",
              " 'limaribu': 3,\n",
              " 'sepuluh': 4,\n",
              " 'seratus': 5,\n",
              " 'seribu': 6}"
            ]
          },
          "execution_count": 13,
          "metadata": {},
          "output_type": "execute_result"
        }
      ],
      "source": [
        "training_set.class_indices"
      ]
    },
    {
      "cell_type": "code",
      "execution_count": 14,
      "metadata": {},
      "outputs": [
        {
          "name": "stdout",
          "output_type": "stream",
          "text": [
            "1/1 [==============================] - 0s 16ms/step\n"
          ]
        },
        {
          "data": {
            "text/plain": [
              "array([0.006, 0.   , 0.994, 0.   , 0.   , 0.   , 0.   ], dtype=float32)"
            ]
          },
          "execution_count": 14,
          "metadata": {},
          "output_type": "execute_result"
        }
      ],
      "source": [
        "predictions = model.predict(test_image)\n",
        "np.around(predictions[0],3)"
      ]
    },
    {
      "cell_type": "code",
      "execution_count": 15,
      "metadata": {},
      "outputs": [
        {
          "data": {
            "text/plain": [
              "2"
            ]
          },
          "execution_count": 15,
          "metadata": {},
          "output_type": "execute_result"
        }
      ],
      "source": [
        "class_index = np.argmax(predictions)\n",
        "class_label = training_set.class_indices\n",
        "predicted_class = list(class_label.keys())[list(class_label.values()).index(class_index)]\n",
        "class_index"
      ]
    },
    {
      "cell_type": "code",
      "execution_count": 16,
      "metadata": {},
      "outputs": [
        {
          "name": "stdout",
          "output_type": "stream",
          "text": [
            "Predicted class: limapuluh\n",
            "Class probabilities: [[5.5264630e-03 4.3149184e-06 9.9433941e-01 2.2061101e-11 8.3660595e-08\n",
            "  6.3007008e-09 1.2983974e-04]]\n"
          ]
        }
      ],
      "source": [
        "print(\"Predicted class:\", predicted_class)\n",
        "print(\"Class probabilities:\", predictions)                  "
      ]
    },
    {
      "cell_type": "code",
      "execution_count": null,
      "metadata": {
        "colab": {
          "base_uri": "https://localhost:8080/",
          "height": 35
        },
        "colab_type": "code",
        "id": "yephYECUq3BH",
        "outputId": "aa6219cf-0719-4857-c100-becf44791bec"
      },
      "outputs": [],
      "source": [
        "training_set.class_indices"
      ]
    },
    {
      "cell_type": "code",
      "execution_count": null,
      "metadata": {},
      "outputs": [],
      "source": [
        "result[0][0]"
      ]
    },
    {
      "cell_type": "code",
      "execution_count": null,
      "metadata": {},
      "outputs": [],
      "source": [
        "result"
      ]
    },
    {
      "cell_type": "code",
      "execution_count": null,
      "metadata": {
        "colab": {},
        "colab_type": "code",
        "id": "KwfR3qnDr2D2"
      },
      "outputs": [],
      "source": [
        "if result [0][0] == 1:\n",
        "  prediction = 'duapuluh'\n",
        "elif result [0][1] == 1:\n",
        "  prediction = \"limapuluh\"\n",
        "else:\n",
        "  prediction = 'seratus'"
      ]
    },
    {
      "cell_type": "code",
      "execution_count": null,
      "metadata": {
        "colab": {
          "base_uri": "https://localhost:8080/",
          "height": 35
        },
        "colab_type": "code",
        "id": "T-LuaKWdsKIn",
        "outputId": "a91c3848-85c5-4f31-b968-5ec070d6d1fa"
      },
      "outputs": [],
      "source": [
        "prediction"
      ]
    },
    {
      "attachments": {},
      "cell_type": "markdown",
      "metadata": {},
      "source": [
        "Accuracy : 0.88"
      ]
    },
    {
      "cell_type": "markdown",
      "metadata": {},
      "source": []
    }
  ],
  "metadata": {
    "accelerator": "GPU",
    "colab": {
      "authorship_tag": "ABX9TyMH4CbnVnrPqPPnZWyDXl/2",
      "collapsed_sections": [],
      "include_colab_link": true,
      "name": "cnn_for_image_classification.ipynb",
      "provenance": []
    },
    "kernelspec": {
      "display_name": "Python 3",
      "name": "python3"
    },
    "language_info": {
      "codemirror_mode": {
        "name": "ipython",
        "version": 3
      },
      "file_extension": ".py",
      "mimetype": "text/x-python",
      "name": "python",
      "nbconvert_exporter": "python",
      "pygments_lexer": "ipython3",
      "version": "3.11.3"
    }
  },
  "nbformat": 4,
  "nbformat_minor": 0
}
