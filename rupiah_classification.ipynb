{
  "cells": [
    {
      "attachments": {},
      "cell_type": "markdown",
      "metadata": {
        "colab_type": "text",
        "id": "view-in-github"
      },
      "source": [
        "<a href=\"https://colab.research.google.com/github/mesushan/CNN-for-image-Classification/blob/master/cnn_for_image_classification.ipynb\" target=\"_parent\"><img src=\"https://colab.research.google.com/assets/colab-badge.svg\" alt=\"Open In Colab\"/></a>"
      ]
    },
    {
      "cell_type": "code",
      "execution_count": 22,
      "metadata": {
        "colab": {},
        "colab_type": "code",
        "id": "9S_E5AgNJkNA"
      },
      "outputs": [],
      "source": [
        "import tensorflow as tf"
      ]
    },
    {
      "cell_type": "code",
      "execution_count": 23,
      "metadata": {
        "colab": {},
        "colab_type": "code",
        "id": "bS6MNMEzKBxs"
      },
      "outputs": [],
      "source": [
        "# Initialising the CNN\n",
        "model = tf.keras.models.Sequential()"
      ]
    },
    {
      "cell_type": "code",
      "execution_count": 24,
      "metadata": {
        "colab": {},
        "colab_type": "code",
        "id": "q1p3ZYBEKnQD"
      },
      "outputs": [],
      "source": [
        "# 32 feature detectors with 3*3 dimensions so the convolution layer compose of 32 feature maps\n",
        "# 128 by 128 dimensions with colored image(3 channels)  (tensorflow backend)\n",
        "input_size = (128, 128)\n",
        "model.add(tf.keras.layers.Convolution2D(32, 3, 3, input_shape = (input_size[0], input_size[1],3), activation = 'relu'))"
      ]
    },
    {
      "cell_type": "code",
      "execution_count": 25,
      "metadata": {
        "colab": {},
        "colab_type": "code",
        "id": "qEiPkwwULNeC"
      },
      "outputs": [],
      "source": [
        "# reduce the size of feature maps and therefore reduce the number of nodes in the future fully connected layer (reduce time complexity, less compute intense without losing the performace). 2 by 2 deminsion is the recommended option\n",
        "model.add(tf.keras.layers.MaxPooling2D(pool_size = (3, 3)))"
      ]
    },
    {
      "cell_type": "code",
      "execution_count": 26,
      "metadata": {
        "colab": {},
        "colab_type": "code",
        "id": "yoh6opl-MPpA"
      },
      "outputs": [],
      "source": [
        "model.add(tf.keras.layers.Convolution2D(64, 3, 3, activation = 'relu'))\n",
        "model.add(tf.keras.layers.MaxPooling2D(pool_size = (2, 2)))"
      ]
    },
    {
      "cell_type": "code",
      "execution_count": 27,
      "metadata": {
        "colab": {},
        "colab_type": "code",
        "id": "ryYAi7KIMd6n"
      },
      "outputs": [],
      "source": [
        "# flatten all the feature maps in the pooling layer into single vector\n",
        "model.add(tf.keras.layers.Flatten())"
      ]
    },
    {
      "cell_type": "code",
      "execution_count": 28,
      "metadata": {
        "colab": {},
        "colab_type": "code",
        "id": "MIo_G3EeMlAo"
      },
      "outputs": [],
      "source": [
        "# making classic ann which compose of fully connected layers\n",
        "# number of nodes in hidden layer (output_dim) (common practice is to take the power of 2)\n",
        "model.add(tf.keras.layers.Dense(units = 128, activation = 'relu'))\n",
        "# model.add(tf.keras.layers.Dropout(0.5))\n",
        "model.add(tf.keras.layers.Dense(units = 3, activation = 'softmax'))"
      ]
    },
    {
      "cell_type": "code",
      "execution_count": 29,
      "metadata": {
        "colab": {},
        "colab_type": "code",
        "id": "4jwlI36vMvJW"
      },
      "outputs": [],
      "source": [
        "# Compiling the CNN\n",
        "model.compile(optimizer = 'adam', loss = 'categorical_crossentropy', metrics = ['accuracy'])"
      ]
    },
    {
      "cell_type": "code",
      "execution_count": 30,
      "metadata": {
        "colab": {
          "base_uri": "https://localhost:8080/",
          "height": 1000
        },
        "colab_type": "code",
        "id": "ggxWEo0-M1h3",
        "outputId": "ed4717df-e4b5-426f-a81d-d575554d0842"
      },
      "outputs": [
        {
          "name": "stdout",
          "output_type": "stream",
          "text": [
            "Found 476 images belonging to 3 classes.\n",
            "Found 120 images belonging to 3 classes.\n"
          ]
        },
        {
          "name": "stdout",
          "output_type": "stream",
          "text": [
            "Epoch 1/50\n",
            "15/15 [==============================] - 2s 89ms/step - loss: 1.0425 - accuracy: 0.5147 - val_loss: 0.9121 - val_accuracy: 0.7833\n",
            "Epoch 2/50\n",
            "15/15 [==============================] - 1s 88ms/step - loss: 0.7830 - accuracy: 0.7248 - val_loss: 0.6439 - val_accuracy: 0.6500\n",
            "Epoch 3/50\n",
            "15/15 [==============================] - 1s 90ms/step - loss: 0.5836 - accuracy: 0.7836 - val_loss: 0.4788 - val_accuracy: 0.7667\n",
            "Epoch 4/50\n",
            "15/15 [==============================] - 1s 87ms/step - loss: 0.5025 - accuracy: 0.8088 - val_loss: 0.4321 - val_accuracy: 0.9000\n",
            "Epoch 5/50\n",
            "15/15 [==============================] - 1s 81ms/step - loss: 0.4708 - accuracy: 0.8109 - val_loss: 0.3975 - val_accuracy: 0.9333\n",
            "Epoch 6/50\n",
            "15/15 [==============================] - 1s 80ms/step - loss: 0.3862 - accuracy: 0.8697 - val_loss: 0.3500 - val_accuracy: 0.8333\n",
            "Epoch 7/50\n",
            "15/15 [==============================] - 1s 85ms/step - loss: 0.3324 - accuracy: 0.8866 - val_loss: 0.2584 - val_accuracy: 0.9500\n",
            "Epoch 8/50\n",
            "15/15 [==============================] - 1s 79ms/step - loss: 0.3253 - accuracy: 0.8866 - val_loss: 0.2338 - val_accuracy: 0.9333\n",
            "Epoch 9/50\n",
            "15/15 [==============================] - 1s 80ms/step - loss: 0.2669 - accuracy: 0.9160 - val_loss: 0.2149 - val_accuracy: 0.9333\n",
            "Epoch 10/50\n",
            "15/15 [==============================] - 1s 82ms/step - loss: 0.2274 - accuracy: 0.9223 - val_loss: 0.2470 - val_accuracy: 0.9333\n",
            "Epoch 11/50\n",
            "15/15 [==============================] - 1s 82ms/step - loss: 0.1946 - accuracy: 0.9412 - val_loss: 0.1771 - val_accuracy: 0.9500\n",
            "Epoch 12/50\n",
            "15/15 [==============================] - 1s 81ms/step - loss: 0.1532 - accuracy: 0.9559 - val_loss: 0.1122 - val_accuracy: 0.9750\n",
            "Epoch 13/50\n",
            "15/15 [==============================] - 1s 79ms/step - loss: 0.1446 - accuracy: 0.9685 - val_loss: 0.0980 - val_accuracy: 0.9917\n",
            "Epoch 14/50\n",
            "15/15 [==============================] - 1s 87ms/step - loss: 0.1240 - accuracy: 0.9685 - val_loss: 0.0798 - val_accuracy: 0.9917\n",
            "Epoch 15/50\n",
            "15/15 [==============================] - 1s 80ms/step - loss: 0.1054 - accuracy: 0.9832 - val_loss: 0.0690 - val_accuracy: 0.9917\n",
            "Epoch 16/50\n",
            "15/15 [==============================] - 1s 81ms/step - loss: 0.1072 - accuracy: 0.9706 - val_loss: 0.0651 - val_accuracy: 0.9917\n",
            "Epoch 17/50\n",
            "15/15 [==============================] - 1s 79ms/step - loss: 0.0919 - accuracy: 0.9790 - val_loss: 0.0523 - val_accuracy: 0.9917\n",
            "Epoch 18/50\n",
            "15/15 [==============================] - 1s 83ms/step - loss: 0.0963 - accuracy: 0.9685 - val_loss: 0.0695 - val_accuracy: 0.9917\n",
            "Epoch 19/50\n",
            "15/15 [==============================] - 1s 78ms/step - loss: 0.0776 - accuracy: 0.9748 - val_loss: 0.0422 - val_accuracy: 0.9917\n",
            "Epoch 20/50\n",
            "15/15 [==============================] - 1s 81ms/step - loss: 0.0639 - accuracy: 0.9769 - val_loss: 0.0448 - val_accuracy: 0.9917\n",
            "Epoch 21/50\n",
            "15/15 [==============================] - 1s 80ms/step - loss: 0.0523 - accuracy: 0.9874 - val_loss: 0.0348 - val_accuracy: 0.9917\n",
            "Epoch 22/50\n",
            "15/15 [==============================] - 1s 80ms/step - loss: 0.0676 - accuracy: 0.9790 - val_loss: 0.0436 - val_accuracy: 0.9917\n",
            "Epoch 23/50\n",
            "15/15 [==============================] - 1s 78ms/step - loss: 0.0462 - accuracy: 0.9832 - val_loss: 0.0412 - val_accuracy: 1.0000\n",
            "Epoch 24/50\n",
            "15/15 [==============================] - 1s 78ms/step - loss: 0.0348 - accuracy: 0.9916 - val_loss: 0.0388 - val_accuracy: 1.0000\n",
            "Epoch 25/50\n",
            "15/15 [==============================] - 1s 80ms/step - loss: 0.0278 - accuracy: 0.9979 - val_loss: 0.0178 - val_accuracy: 1.0000\n",
            "Epoch 26/50\n",
            "15/15 [==============================] - 1s 79ms/step - loss: 0.0320 - accuracy: 0.9958 - val_loss: 0.0218 - val_accuracy: 0.9917\n",
            "Epoch 27/50\n",
            "15/15 [==============================] - 1s 79ms/step - loss: 0.0260 - accuracy: 0.9937 - val_loss: 0.0162 - val_accuracy: 0.9917\n",
            "Epoch 28/50\n",
            "15/15 [==============================] - 1s 78ms/step - loss: 0.0190 - accuracy: 1.0000 - val_loss: 0.0094 - val_accuracy: 1.0000\n",
            "Epoch 29/50\n",
            "15/15 [==============================] - 1s 79ms/step - loss: 0.0229 - accuracy: 0.9979 - val_loss: 0.0124 - val_accuracy: 1.0000\n",
            "Epoch 30/50\n",
            "15/15 [==============================] - 1s 80ms/step - loss: 0.0235 - accuracy: 0.9958 - val_loss: 0.0238 - val_accuracy: 0.9917\n",
            "Epoch 31/50\n",
            "15/15 [==============================] - 1s 79ms/step - loss: 0.0198 - accuracy: 0.9979 - val_loss: 0.0085 - val_accuracy: 1.0000\n",
            "Epoch 32/50\n",
            "15/15 [==============================] - 1s 80ms/step - loss: 0.0135 - accuracy: 1.0000 - val_loss: 0.0086 - val_accuracy: 1.0000\n",
            "Epoch 33/50\n",
            "15/15 [==============================] - 1s 82ms/step - loss: 0.0103 - accuracy: 1.0000 - val_loss: 0.0088 - val_accuracy: 1.0000\n",
            "Epoch 34/50\n",
            "15/15 [==============================] - 1s 81ms/step - loss: 0.0147 - accuracy: 0.9979 - val_loss: 0.0046 - val_accuracy: 1.0000\n",
            "Epoch 35/50\n",
            "15/15 [==============================] - 1s 81ms/step - loss: 0.0121 - accuracy: 0.9979 - val_loss: 0.0038 - val_accuracy: 1.0000\n",
            "Epoch 36/50\n",
            "15/15 [==============================] - 1s 78ms/step - loss: 0.0115 - accuracy: 0.9979 - val_loss: 0.0334 - val_accuracy: 1.0000\n",
            "Epoch 37/50\n",
            "15/15 [==============================] - 1s 79ms/step - loss: 0.0359 - accuracy: 0.9874 - val_loss: 0.3853 - val_accuracy: 0.8000\n",
            "Epoch 38/50\n",
            "15/15 [==============================] - 1s 79ms/step - loss: 0.0977 - accuracy: 0.9580 - val_loss: 0.0478 - val_accuracy: 0.9917\n",
            "Epoch 39/50\n",
            "15/15 [==============================] - 1s 80ms/step - loss: 0.0569 - accuracy: 0.9790 - val_loss: 0.1392 - val_accuracy: 0.9583\n",
            "Epoch 40/50\n",
            "15/15 [==============================] - 1s 81ms/step - loss: 0.0415 - accuracy: 0.9853 - val_loss: 0.0113 - val_accuracy: 0.9917\n",
            "Epoch 41/50\n",
            "15/15 [==============================] - 1s 79ms/step - loss: 0.0146 - accuracy: 0.9979 - val_loss: 0.0085 - val_accuracy: 0.9917\n",
            "Epoch 42/50\n",
            "15/15 [==============================] - 1s 80ms/step - loss: 0.0107 - accuracy: 0.9958 - val_loss: 0.0048 - val_accuracy: 1.0000\n",
            "Epoch 43/50\n",
            "15/15 [==============================] - 1s 79ms/step - loss: 0.0106 - accuracy: 0.9979 - val_loss: 0.0033 - val_accuracy: 1.0000\n",
            "Epoch 44/50\n",
            "15/15 [==============================] - 1s 79ms/step - loss: 0.0041 - accuracy: 1.0000 - val_loss: 0.0024 - val_accuracy: 1.0000\n",
            "Epoch 45/50\n",
            "15/15 [==============================] - 1s 80ms/step - loss: 0.0065 - accuracy: 1.0000 - val_loss: 0.0026 - val_accuracy: 1.0000\n",
            "Epoch 46/50\n",
            "15/15 [==============================] - 1s 79ms/step - loss: 0.0052 - accuracy: 1.0000 - val_loss: 0.0085 - val_accuracy: 1.0000\n",
            "Epoch 47/50\n",
            "15/15 [==============================] - 1s 79ms/step - loss: 0.0056 - accuracy: 1.0000 - val_loss: 0.0049 - val_accuracy: 1.0000\n",
            "Epoch 48/50\n",
            "15/15 [==============================] - 1s 79ms/step - loss: 0.0044 - accuracy: 1.0000 - val_loss: 0.0089 - val_accuracy: 1.0000\n",
            "Epoch 49/50\n",
            "15/15 [==============================] - 1s 79ms/step - loss: 0.0037 - accuracy: 1.0000 - val_loss: 0.0042 - val_accuracy: 1.0000\n",
            "Epoch 50/50\n",
            "15/15 [==============================] - 1s 79ms/step - loss: 0.0037 - accuracy: 1.0000 - val_loss: 0.0039 - val_accuracy: 1.0000\n"
          ]
        },
        {
          "data": {
            "text/plain": [
              "<keras.callbacks.History at 0x204cd1ea890>"
            ]
          },
          "execution_count": 30,
          "metadata": {},
          "output_type": "execute_result"
        }
      ],
      "source": [
        "# image augmentation technique to enrich our dataset(training set) without adding more images so get good performance  results with little or no overfitting even with the small amount of images\n",
        "# used from keras documentation (flow_from_directory method)\n",
        "\n",
        "from keras.preprocessing.image import ImageDataGenerator\n",
        "batch_size = 32\n",
        "# image augmentation part\n",
        "train_datagen = ImageDataGenerator(rescale = 1./255,\n",
        "                                   shear_range = 0.2,\n",
        "                                   zoom_range = 0.2,\n",
        "                                   horizontal_flip = True)\n",
        "\n",
        "test_datagen = ImageDataGenerator(rescale = 1./255)\n",
        "\n",
        "# create training set\n",
        "# wanna get higher accuracy -> inccrease target_size\n",
        "training_set = train_datagen.flow_from_directory('C:\\\\Users\\VA\\Documents\\workspace\\dump_cnn\\dataset\\\\train',\n",
        "                                                 target_size = input_size,\n",
        "                                                 batch_size = batch_size,\n",
        "                                                 class_mode = 'categorical')\n",
        "\n",
        "# create test set\n",
        "# wanna get higher accuracy -> inccrease target_size\n",
        "test_set = test_datagen.flow_from_directory('C:\\\\Users\\VA\\Documents\\workspace\\dump_cnn\\dataset\\\\test',\n",
        "                                            target_size = input_size,\n",
        "                                            batch_size = batch_size,\n",
        "                                            class_mode = 'categorical')\n",
        "\n",
        "# fit the cnn model to the trainig set and testing it on the test set\n",
        "model.fit(training_set,\n",
        "          steps_per_epoch = len(training_set),\n",
        "          epochs = 50,\n",
        "          validation_data = test_set,\n",
        "          validation_steps = len(test_set))"
      ]
    },
    {
      "cell_type": "code",
      "execution_count": 31,
      "metadata": {
        "colab": {},
        "colab_type": "code",
        "id": "zkpQ9_Bbdgug"
      },
      "outputs": [],
      "source": [
        "import numpy as np\n",
        "import keras.utils as image\n",
        "# from keras.preprocessing import image"
      ]
    },
    {
      "cell_type": "code",
      "execution_count": 32,
      "metadata": {
        "colab": {},
        "colab_type": "code",
        "id": "OARxcBiKqhaP"
      },
      "outputs": [
        {
          "name": "stdout",
          "output_type": "stream",
          "text": [
            "1/1 [==============================] - 0s 74ms/step\n"
          ]
        }
      ],
      "source": [
        "test_image = image.load_img('C:\\\\Users\\VA\\Documents\\workspace\\dump_cnn\\dataset\\\\predict\\\\91.jpg', target_size= input_size)\n",
        "test_image = image.img_to_array(test_image)\n",
        "test_image = np.expand_dims(test_image, axis = 0)\n",
        "result = model.predict(test_image)\n",
        "test_image = test_image/255.0"
      ]
    },
    {
      "cell_type": "code",
      "execution_count": 33,
      "metadata": {},
      "outputs": [
        {
          "name": "stdout",
          "output_type": "stream",
          "text": [
            "1/1 [==============================] - 0s 23ms/step\n"
          ]
        }
      ],
      "source": [
        "predictions = model.predict(test_image)"
      ]
    },
    {
      "cell_type": "code",
      "execution_count": 34,
      "metadata": {},
      "outputs": [],
      "source": [
        "class_index = np.argmax(predictions)\n",
        "class_label = training_set.class_indices\n",
        "predicted_class = list(class_label.keys())[list(class_label.values()).index(class_index)]"
      ]
    },
    {
      "cell_type": "code",
      "execution_count": 35,
      "metadata": {},
      "outputs": [
        {
          "name": "stdout",
          "output_type": "stream",
          "text": [
            "Predicted class: limapuluh\n",
            "Class probabilities: [[1.7044857e-09 1.0000000e+00 5.3739260e-11]]\n"
          ]
        }
      ],
      "source": [
        "print(\"Predicted class:\", predicted_class)\n",
        "print(\"Class probabilities:\", predictions)"
      ]
    },
    {
      "cell_type": "code",
      "execution_count": 36,
      "metadata": {
        "colab": {
          "base_uri": "https://localhost:8080/",
          "height": 35
        },
        "colab_type": "code",
        "id": "yephYECUq3BH",
        "outputId": "aa6219cf-0719-4857-c100-becf44791bec"
      },
      "outputs": [
        {
          "data": {
            "text/plain": [
              "{'duapuluh': 0, 'limapuluh': 1, 'seratus': 2}"
            ]
          },
          "execution_count": 36,
          "metadata": {},
          "output_type": "execute_result"
        }
      ],
      "source": [
        "training_set.class_indices"
      ]
    },
    {
      "cell_type": "code",
      "execution_count": 37,
      "metadata": {},
      "outputs": [
        {
          "data": {
            "text/plain": [
              "0.0"
            ]
          },
          "execution_count": 37,
          "metadata": {},
          "output_type": "execute_result"
        }
      ],
      "source": [
        "result[0][0]"
      ]
    },
    {
      "cell_type": "code",
      "execution_count": 38,
      "metadata": {},
      "outputs": [
        {
          "data": {
            "text/plain": [
              "array([[0., 1., 0.]], dtype=float32)"
            ]
          },
          "execution_count": 38,
          "metadata": {},
          "output_type": "execute_result"
        }
      ],
      "source": [
        "result"
      ]
    },
    {
      "cell_type": "code",
      "execution_count": 41,
      "metadata": {
        "colab": {},
        "colab_type": "code",
        "id": "KwfR3qnDr2D2"
      },
      "outputs": [],
      "source": [
        "if result [0][0] == 1:\n",
        "  prediction = 'duapuluh'\n",
        "elif result [0][1] == 1:\n",
        "  prediction = \"limapuluh\"\n",
        "else:\n",
        "  prediction = 'seratus'"
      ]
    },
    {
      "cell_type": "code",
      "execution_count": 42,
      "metadata": {
        "colab": {
          "base_uri": "https://localhost:8080/",
          "height": 35
        },
        "colab_type": "code",
        "id": "T-LuaKWdsKIn",
        "outputId": "a91c3848-85c5-4f31-b968-5ec070d6d1fa"
      },
      "outputs": [
        {
          "data": {
            "text/plain": [
              "'limapuluh'"
            ]
          },
          "execution_count": 42,
          "metadata": {},
          "output_type": "execute_result"
        }
      ],
      "source": [
        "prediction"
      ]
    },
    {
      "attachments": {},
      "cell_type": "markdown",
      "metadata": {},
      "source": [
        "Accuracy : 0.98"
      ]
    },
    {
      "cell_type": "markdown",
      "metadata": {},
      "source": []
    }
  ],
  "metadata": {
    "accelerator": "GPU",
    "colab": {
      "authorship_tag": "ABX9TyMH4CbnVnrPqPPnZWyDXl/2",
      "collapsed_sections": [],
      "include_colab_link": true,
      "name": "cnn_for_image_classification.ipynb",
      "provenance": []
    },
    "kernelspec": {
      "display_name": "Python 3",
      "name": "python3"
    },
    "language_info": {
      "codemirror_mode": {
        "name": "ipython",
        "version": 3
      },
      "file_extension": ".py",
      "mimetype": "text/x-python",
      "name": "python",
      "nbconvert_exporter": "python",
      "pygments_lexer": "ipython3",
      "version": "3.11.3"
    }
  },
  "nbformat": 4,
  "nbformat_minor": 0
}
