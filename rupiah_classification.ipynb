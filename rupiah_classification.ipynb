{
  "cells": [
    {
      "attachments": {},
      "cell_type": "markdown",
      "metadata": {
        "colab_type": "text",
        "id": "view-in-github"
      },
      "source": [
        "<a href=\"https://colab.research.google.com/github/mesushan/CNN-for-image-Classification/blob/master/cnn_for_image_classification.ipynb\" target=\"_parent\"><img src=\"https://colab.research.google.com/assets/colab-badge.svg\" alt=\"Open In Colab\"/></a>"
      ]
    },
    {
      "cell_type": "code",
      "execution_count": 1,
      "metadata": {
        "colab": {},
        "colab_type": "code",
        "id": "9S_E5AgNJkNA"
      },
      "outputs": [],
      "source": [
        "import tensorflow as tf "
      ]
    },
    {
      "cell_type": "code",
      "execution_count": 14,
      "metadata": {},
      "outputs": [],
      "source": [
        "input_size = (128, 128)\n",
        "model = tf.keras.models.Sequential([\n",
        "    tf.keras.layers.Convolution2D(128,(3,3),activation = \"relu\", input_shape = (input_size[0], input_size[1],3)),  \n",
        "    tf.keras.layers.MaxPooling2D(2,2),\n",
        "    tf.keras.layers.Convolution2D(64,(3,3),activation = \"relu\" , input_shape = (input_size[0], input_size[1],3)) ,  \n",
        "    tf.keras.layers.MaxPooling2D(2,2),\n",
        "    tf.keras.layers.Convolution2D(32,(3,3),activation = \"relu\" , input_shape = (input_size[0], input_size[1],3)) ,  \n",
        "    tf.keras.layers.MaxPooling2D(2,2),\n",
        "    tf.keras.layers.Convolution2D(16,(3,3),activation = \"relu\" , input_shape = (input_size[0], input_size[1],3)) ,\n",
        "    tf.keras.layers.MaxPooling2D(2,2),\n",
        "    tf.keras.layers.Flatten(), \n",
        "    # tf.keras.layers.Dense(550,activation=\"relu\"),      #Adding the Hidden layer\n",
        "    # tf.keras.layers.Dropout(0.1,seed = 2019),\n",
        "    # tf.keras.layers.Dense(400,activation =\"relu\"),\n",
        "    # tf.keras.layers.Dropout(0.3,seed = 2019),\n",
        "    # tf.keras.layers.Dense(300,activation=\"relu\"),\n",
        "    # tf.keras.layers.Dropout(0.4,seed = 2019),\n",
        "    tf.keras.layers.Dense(128,activation =\"relu\"),\n",
        "    tf.keras.layers.Dropout(0.4,seed = 2019),\n",
        "    tf.keras.layers.Dropout(0.2,seed = 2019),\n",
        "    tf.keras.layers.Dropout(0.1,seed = 2019),\n",
        "    tf.keras.layers.Dense(7,activation = \"softmax\")   #Adding the Output Layer\n",
        "])"
      ]
    },
    {
      "cell_type": "code",
      "execution_count": 15,
      "metadata": {
        "colab": {},
        "colab_type": "code",
        "id": "bS6MNMEzKBxs"
      },
      "outputs": [],
      "source": [
        "# Initialising the CNN\n",
        "# model = tf.keras.models.Sequential()"
      ]
    },
    {
      "cell_type": "code",
      "execution_count": 16,
      "metadata": {
        "colab": {},
        "colab_type": "code",
        "id": "q1p3ZYBEKnQD"
      },
      "outputs": [],
      "source": [
        "# 32 feature detectors with 3*3 dimensions so the convolution layer compose of 32 feature maps\n",
        "# 128 by 128 dimensions with colored image(3 channels)  (tensorflow backend)\n",
        "# input_size = (128, 128)\n",
        "# model.add(tf.keras.layers.Convolution2D(32, 3, 3, input_shape = (input_size[0], input_size[1],3), activation = 'relu'))"
      ]
    },
    {
      "cell_type": "code",
      "execution_count": 17,
      "metadata": {
        "colab": {},
        "colab_type": "code",
        "id": "qEiPkwwULNeC"
      },
      "outputs": [],
      "source": [
        "# reduce the size of feature maps and therefore reduce the number of nodes in the future fully connected layer (reduce time complexity, less compute intense without losing the performace). 2 by 2 deminsion is the recommended option\n",
        "# model.add(tf.keras.layers.MaxPooling2D(pool_size = (3, 3)))"
      ]
    },
    {
      "cell_type": "code",
      "execution_count": 18,
      "metadata": {
        "colab": {},
        "colab_type": "code",
        "id": "yoh6opl-MPpA"
      },
      "outputs": [],
      "source": [
        "# model.add(tf.keras.layers.Convolution2D(64, 3, 3, activation = 'relu'))\n",
        "# model.add(tf.keras.layers.MaxPooling2D(pool_size = (2, 2)))"
      ]
    },
    {
      "cell_type": "code",
      "execution_count": 19,
      "metadata": {
        "colab": {},
        "colab_type": "code",
        "id": "ryYAi7KIMd6n"
      },
      "outputs": [],
      "source": [
        "# flatten all the feature maps in the pooling layer into single vector\n",
        "# model.add(tf.keras.layers.Flatten())"
      ]
    },
    {
      "cell_type": "code",
      "execution_count": 20,
      "metadata": {
        "colab": {},
        "colab_type": "code",
        "id": "MIo_G3EeMlAo"
      },
      "outputs": [],
      "source": [
        "# making classic ann which compose of fully connected layers\n",
        "# number of nodes in hidden layer (output_dim) (common practice is to take the power of 2)\n",
        "# model.add(tf.keras.layers.Dense(units = 128, activation = 'relu'))\n",
        "# # model.add(tf.keras.layers.Dropout(0.5))\n",
        "# model.add(tf.keras.layers.Dense(units = 7, activation = 'softmax'))"
      ]
    },
    {
      "cell_type": "code",
      "execution_count": 21,
      "metadata": {
        "colab": {},
        "colab_type": "code",
        "id": "4jwlI36vMvJW"
      },
      "outputs": [],
      "source": [
        "# Compiling the CNN\n",
        "model.compile(optimizer = 'adam', loss = 'categorical_crossentropy', metrics = ['accuracy'])"
      ]
    },
    {
      "cell_type": "code",
      "execution_count": 22,
      "metadata": {
        "colab": {
          "base_uri": "https://localhost:8080/",
          "height": 1000
        },
        "colab_type": "code",
        "id": "ggxWEo0-M1h3",
        "outputId": "ed4717df-e4b5-426f-a81d-d575554d0842"
      },
      "outputs": [
        {
          "name": "stdout",
          "output_type": "stream",
          "text": [
            "Found 752 images belonging to 7 classes.\n",
            "Found 202 images belonging to 7 classes.\n"
          ]
        },
        {
          "name": "stdout",
          "output_type": "stream",
          "text": [
            "Epoch 1/30\n",
            "16/16 [==============================] - 16s 919ms/step - loss: 1.8187 - accuracy: 0.2593 - val_loss: 1.7471 - val_accuracy: 0.4257\n",
            "Epoch 2/30\n",
            "16/16 [==============================] - 14s 895ms/step - loss: 1.6317 - accuracy: 0.3976 - val_loss: 1.6585 - val_accuracy: 0.3267\n",
            "Epoch 3/30\n",
            "16/16 [==============================] - 14s 896ms/step - loss: 1.7017 - accuracy: 0.3112 - val_loss: 1.6355 - val_accuracy: 0.4653\n",
            "Epoch 4/30\n",
            "16/16 [==============================] - 16s 970ms/step - loss: 1.4764 - accuracy: 0.4468 - val_loss: 1.4015 - val_accuracy: 0.5495\n",
            "Epoch 5/30\n",
            "16/16 [==============================] - 16s 979ms/step - loss: 1.3814 - accuracy: 0.4561 - val_loss: 1.3062 - val_accuracy: 0.5050\n",
            "Epoch 6/30\n",
            "16/16 [==============================] - 19s 1s/step - loss: 1.2570 - accuracy: 0.5133 - val_loss: 1.2727 - val_accuracy: 0.5891\n",
            "Epoch 7/30\n",
            "16/16 [==============================] - 16s 972ms/step - loss: 1.1780 - accuracy: 0.5359 - val_loss: 1.1806 - val_accuracy: 0.5990\n",
            "Epoch 8/30\n",
            "16/16 [==============================] - 15s 948ms/step - loss: 1.1051 - accuracy: 0.5785 - val_loss: 1.1530 - val_accuracy: 0.5644\n",
            "Epoch 9/30\n",
            "16/16 [==============================] - 15s 927ms/step - loss: 1.0588 - accuracy: 0.6130 - val_loss: 0.9989 - val_accuracy: 0.6436\n",
            "Epoch 10/30\n",
            "16/16 [==============================] - 15s 950ms/step - loss: 0.9504 - accuracy: 0.6423 - val_loss: 1.0150 - val_accuracy: 0.5990\n",
            "Epoch 11/30\n",
            "16/16 [==============================] - 15s 918ms/step - loss: 0.9430 - accuracy: 0.6476 - val_loss: 1.0267 - val_accuracy: 0.6782\n",
            "Epoch 12/30\n",
            "16/16 [==============================] - 15s 934ms/step - loss: 0.8538 - accuracy: 0.6742 - val_loss: 0.8373 - val_accuracy: 0.7525\n",
            "Epoch 13/30\n",
            "16/16 [==============================] - 15s 926ms/step - loss: 0.8181 - accuracy: 0.7114 - val_loss: 0.8356 - val_accuracy: 0.7475\n",
            "Epoch 14/30\n",
            "16/16 [==============================] - 15s 919ms/step - loss: 0.7168 - accuracy: 0.7553 - val_loss: 0.8644 - val_accuracy: 0.6584\n",
            "Epoch 15/30\n",
            "16/16 [==============================] - 15s 926ms/step - loss: 0.7502 - accuracy: 0.7261 - val_loss: 0.7354 - val_accuracy: 0.7822\n",
            "Epoch 16/30\n",
            "16/16 [==============================] - 15s 935ms/step - loss: 0.6775 - accuracy: 0.7806 - val_loss: 0.8772 - val_accuracy: 0.7030\n",
            "Epoch 17/30\n",
            "16/16 [==============================] - 15s 920ms/step - loss: 0.6871 - accuracy: 0.7620 - val_loss: 0.6631 - val_accuracy: 0.8020\n",
            "Epoch 18/30\n",
            "16/16 [==============================] - 15s 929ms/step - loss: 0.5598 - accuracy: 0.8205 - val_loss: 0.5689 - val_accuracy: 0.8168\n",
            "Epoch 19/30\n",
            "16/16 [==============================] - 15s 944ms/step - loss: 0.4925 - accuracy: 0.8245 - val_loss: 0.5514 - val_accuracy: 0.8465\n",
            "Epoch 20/30\n",
            "16/16 [==============================] - 15s 955ms/step - loss: 0.4659 - accuracy: 0.8298 - val_loss: 0.6972 - val_accuracy: 0.7921\n",
            "Epoch 21/30\n",
            "16/16 [==============================] - 15s 957ms/step - loss: 0.5216 - accuracy: 0.8258 - val_loss: 0.5957 - val_accuracy: 0.8069\n",
            "Epoch 22/30\n",
            "16/16 [==============================] - 15s 1s/step - loss: 0.4936 - accuracy: 0.8457 - val_loss: 0.5052 - val_accuracy: 0.8465\n",
            "Epoch 23/30\n",
            "16/16 [==============================] - 16s 972ms/step - loss: 0.4577 - accuracy: 0.8537 - val_loss: 0.6155 - val_accuracy: 0.7921\n",
            "Epoch 24/30\n",
            "16/16 [==============================] - 16s 979ms/step - loss: 0.5091 - accuracy: 0.8218 - val_loss: 0.8773 - val_accuracy: 0.6436\n"
          ]
        }
      ],
      "source": [
        "# image augmentation technique to enrich our dataset(training set) without adding more images so get good performance  results with little or no overfitting even with the small amount of images\n",
        "# used from keras documentation (flow_from_directory method)\n",
        "\n",
        "from keras.preprocessing.image import ImageDataGenerator\n",
        "from tensorflow.keras.callbacks import EarlyStopping\n",
        "\n",
        "batch_size = 50\n",
        "# image augmentation part\n",
        "train_datagen = ImageDataGenerator(rescale = 1./255,\n",
        "                                   shear_range = 0.2,\n",
        "                                   zoom_range = 0.2,\n",
        "                                   horizontal_flip = True)\n",
        "\n",
        "test_datagen = ImageDataGenerator(rescale = 1./255)\n",
        "\n",
        "# create training set\n",
        "# wanna get higher accuracy -> inccrease target_size\n",
        "training_set = train_datagen.flow_from_directory('C:\\\\Users\\VA\\Documents\\workspace\\dump_cnn\\dataset\\\\train',\n",
        "                                                 target_size = input_size,\n",
        "                                                 batch_size = batch_size,\n",
        "                                                 class_mode = 'categorical')\n",
        "\n",
        "# create test set\n",
        "# wanna get higher accuracy -> inccrease target_size\n",
        "test_set = test_datagen.flow_from_directory('C:\\\\Users\\VA\\Documents\\workspace\\dump_cnn\\dataset\\\\test',\n",
        "                                            target_size = input_size,\n",
        "                                            batch_size = batch_size,\n",
        "                                            class_mode = 'categorical')\n",
        "\n",
        "early_stopping = EarlyStopping(monitor='val_accuracy', patience=5, restore_best_weights=True)\n",
        "\n",
        "# fit the cnn model to the trainig set and testing it on the test set\n",
        "history = model.fit(training_set,\n",
        "          steps_per_epoch = len(training_set),\n",
        "          epochs = 30,\n",
        "          validation_data = test_set,\n",
        "          validation_steps = len(test_set),\n",
        "          callbacks=[early_stopping])"
      ]
    },
    {
      "cell_type": "code",
      "execution_count": 23,
      "metadata": {},
      "outputs": [
        {
          "name": "stdout",
          "output_type": "stream",
          "text": [
            "Found 202 images belonging to 7 classes.\n"
          ]
        },
        {
          "name": "stdout",
          "output_type": "stream",
          "text": [
            "5/5 [==============================] - 1s 156ms/step - loss: 0.5514 - accuracy: 0.8465\n"
          ]
        },
        {
          "data": {
            "text/plain": [
              "[0.5513574481010437, 0.8465346693992615]"
            ]
          },
          "execution_count": 23,
          "metadata": {},
          "output_type": "execute_result"
        }
      ],
      "source": [
        "test_generator = test_datagen.flow_from_directory(\n",
        "    'dataset/test',         # Path to the test data directory\n",
        "    target_size=input_size,\n",
        "    batch_size=batch_size,\n",
        "    class_mode='categorical'\n",
        ")\n",
        "model.evaluate(test_set)"
      ]
    },
    {
      "cell_type": "code",
      "execution_count": 24,
      "metadata": {},
      "outputs": [
        {
          "name": "stdout",
          "output_type": "stream",
          "text": [
            "16/16 [==============================] - 4s 267ms/step - loss: 0.4616 - accuracy: 0.8684\n"
          ]
        },
        {
          "data": {
            "text/plain": [
              "[0.46156907081604004, 0.8683510422706604]"
            ]
          },
          "execution_count": 24,
          "metadata": {},
          "output_type": "execute_result"
        }
      ],
      "source": [
        "model.evaluate(training_set)"
      ]
    },
    {
      "cell_type": "code",
      "execution_count": 25,
      "metadata": {},
      "outputs": [
        {
          "name": "stdout",
          "output_type": "stream",
          "text": [
            "Model: \"sequential_2\"\n",
            "_________________________________________________________________\n",
            " Layer (type)                Output Shape              Param #   \n",
            "=================================================================\n",
            " conv2d_8 (Conv2D)           (None, 126, 126, 128)     3584      \n",
            "                                                                 \n",
            " max_pooling2d_8 (MaxPooling  (None, 63, 63, 128)      0         \n",
            " 2D)                                                             \n",
            "                                                                 \n",
            " conv2d_9 (Conv2D)           (None, 61, 61, 64)        73792     \n",
            "                                                                 \n",
            " max_pooling2d_9 (MaxPooling  (None, 30, 30, 64)       0         \n",
            " 2D)                                                             \n",
            "                                                                 \n",
            " conv2d_10 (Conv2D)          (None, 28, 28, 32)        18464     \n",
            "                                                                 \n",
            " max_pooling2d_10 (MaxPoolin  (None, 14, 14, 32)       0         \n",
            " g2D)                                                            \n",
            "                                                                 \n",
            " conv2d_11 (Conv2D)          (None, 12, 12, 16)        4624      \n",
            "                                                                 \n",
            " max_pooling2d_11 (MaxPoolin  (None, 6, 6, 16)         0         \n",
            " g2D)                                                            \n",
            "                                                                 \n",
            " flatten_2 (Flatten)         (None, 576)               0         \n",
            "                                                                 \n",
            " dense_4 (Dense)             (None, 128)               73856     \n",
            "                                                                 \n",
            " dropout_6 (Dropout)         (None, 128)               0         \n",
            "                                                                 \n",
            " dropout_7 (Dropout)         (None, 128)               0         \n",
            "                                                                 \n",
            " dropout_8 (Dropout)         (None, 128)               0         \n",
            "                                                                 \n",
            " dense_5 (Dense)             (None, 7)                 903       \n",
            "                                                                 \n",
            "=================================================================\n",
            "Total params: 175,223\n",
            "Trainable params: 175,223\n",
            "Non-trainable params: 0\n",
            "_________________________________________________________________\n"
          ]
        }
      ],
      "source": [
        "model.summary()"
      ]
    },
    {
      "cell_type": "code",
      "execution_count": 6,
      "metadata": {},
      "outputs": [
        {
          "data": {
            "image/png": "[encoded data removed]",
            "text/plain": [
              "<Figure size 640x480 with 1 Axes>"
            ]
          },
          "metadata": {},
          "output_type": "display_data"
        }
      ],
      "source": [
        "import matplotlib.pyplot as plt\n",
        "\n",
        "loss_train = history.history['loss']\n",
        "loss_val = history.history['val_loss']\n",
        "epochs = range(1,31)\n",
        "plt.plot(epochs, loss_train, 'g', label='Training loss')\n",
        "plt.plot(epochs, loss_val, 'b', label='validation loss')\n",
        "# plt.plot(x, y, '-', color='green')\n",
        "plt.title('Training and Validation loss')\n",
        "plt.xlabel('Epochs')\n",
        "plt.ylabel('Loss')\n",
        "plt.legend()\n",
        "plt.show()"
      ]
    },
    {
      "cell_type": "code",
      "execution_count": 7,
      "metadata": {},
      "outputs": [
        {
          "data": {
            "image/png": "[encoded data removed]",
            "text/plain": [
              "<Figure size 640x480 with 1 Axes>"
            ]
          },
          "metadata": {},
          "output_type": "display_data"
        }
      ],
      "source": [
        "import matplotlib.pyplot as plt\n",
        "\n",
        "accuracy = history.history['accuracy']\n",
        "val_accuracy = history.history['val_accuracy']\n",
        "epochs = range(1,31)\n",
        "plt.plot(epochs, accuracy, 'g', label='Training accuracy')\n",
        "plt.plot(epochs, val_accuracy, 'b', label='Validation_accuracy')\n",
        "# plt.plot(x, y, '-', color='green')\n",
        "plt.title('Training and Validation Accuracy')\n",
        "plt.xlabel('Epochs')\n",
        "plt.ylabel('Loss')\n",
        "plt.legend()\n",
        "plt.show()"
      ]
    },
    {
      "cell_type": "code",
      "execution_count": 26,
      "metadata": {},
      "outputs": [],
      "source": [
        "model.save('cnn_v2.h5') #overfitting issue"
      ]
    },
    {
      "cell_type": "code",
      "execution_count": 19,
      "metadata": {
        "colab": {},
        "colab_type": "code",
        "id": "zkpQ9_Bbdgug"
      },
      "outputs": [],
      "source": [
        "import numpy as np\n",
        "import keras.utils as image\n",
        "# from keras.preprocessing import image"
      ]
    },
    {
      "cell_type": "code",
      "execution_count": 20,
      "metadata": {},
      "outputs": [
        {
          "data": {
            "text/plain": [
              "{'duapuluh': 0,\n",
              " 'duaribu': 1,\n",
              " 'limapuluh': 2,\n",
              " 'limaribu': 3,\n",
              " 'sepuluh': 4,\n",
              " 'seratus': 5,\n",
              " 'seribu': 6}"
            ]
          },
          "execution_count": 20,
          "metadata": {},
          "output_type": "execute_result"
        }
      ],
      "source": [
        "training_set.class_indices"
      ]
    },
    {
      "cell_type": "code",
      "execution_count": 53,
      "metadata": {
        "colab": {},
        "colab_type": "code",
        "id": "OARxcBiKqhaP"
      },
      "outputs": [
        {
          "name": "stdout",
          "output_type": "stream",
          "text": [
            "1/1 [==============================] - 0s 30ms/step\n"
          ]
        }
      ],
      "source": [
        "test_image = image.load_img('C:\\\\Users\\VA\\Documents\\workspace\\dump_cnn\\dataset\\\\predict\\\\limpulutuh.jpeg', target_size= input_size)\n",
        "test_image = image.img_to_array(test_image)\n",
        "test_image = np.expand_dims(test_image, axis = 0)\n",
        "result = model.predict(test_image)\n",
        "test_image = test_image/255.0"
      ]
    },
    {
      "cell_type": "code",
      "execution_count": 54,
      "metadata": {},
      "outputs": [
        {
          "name": "stdout",
          "output_type": "stream",
          "text": [
            "1/1 [==============================] - 0s 33ms/step\n"
          ]
        },
        {
          "data": {
            "text/plain": [
              "array([0.001, 0.   , 0.999, 0.   , 0.   , 0.   , 0.   ], dtype=float32)"
            ]
          },
          "execution_count": 54,
          "metadata": {},
          "output_type": "execute_result"
        }
      ],
      "source": [
        "predictions = model.predict(test_image)\n",
        "np.around(predictions[0],3)"
      ]
    },
    {
      "cell_type": "code",
      "execution_count": 55,
      "metadata": {},
      "outputs": [
        {
          "data": {
            "text/plain": [
              "2"
            ]
          },
          "execution_count": 55,
          "metadata": {},
          "output_type": "execute_result"
        }
      ],
      "source": [
        "class_index = np.argmax(predictions)\n",
        "class_label = training_set.class_indices\n",
        "predicted_class = list(class_label.keys())[list(class_label.values()).index(class_index)]\n",
        "class_index"
      ]
    },
    {
      "cell_type": "code",
      "execution_count": 56,
      "metadata": {},
      "outputs": [
        {
          "name": "stdout",
          "output_type": "stream",
          "text": [
            "Predicted class: limapuluh\n",
            "Class probabilities: [0.001 0.    0.999 0.    0.    0.    0.   ]\n"
          ]
        }
      ],
      "source": [
        "print(\"Predicted class:\", predicted_class)\n",
        "print(\"Class probabilities:\", np.around(predictions[0],3))                  "
      ]
    },
    {
      "cell_type": "code",
      "execution_count": null,
      "metadata": {
        "colab": {
          "base_uri": "https://localhost:8080/",
          "height": 35
        },
        "colab_type": "code",
        "id": "yephYECUq3BH",
        "outputId": "aa6219cf-0719-4857-c100-becf44791bec"
      },
      "outputs": [],
      "source": [
        "training_set.class_indices"
      ]
    },
    {
      "cell_type": "code",
      "execution_count": null,
      "metadata": {},
      "outputs": [],
      "source": [
        "result[0][0]"
      ]
    },
    {
      "cell_type": "code",
      "execution_count": null,
      "metadata": {},
      "outputs": [],
      "source": [
        "result"
      ]
    },
    {
      "cell_type": "code",
      "execution_count": null,
      "metadata": {
        "colab": {},
        "colab_type": "code",
        "id": "KwfR3qnDr2D2"
      },
      "outputs": [],
      "source": [
        "if result [0][0] == 1:\n",
        "  prediction = 'duapuluh'\n",
        "elif result [0][1] == 1:\n",
        "  prediction = \"limapuluh\"\n",
        "else:\n",
        "  prediction = 'seratus'"
      ]
    },
    {
      "cell_type": "code",
      "execution_count": null,
      "metadata": {
        "colab": {
          "base_uri": "https://localhost:8080/",
          "height": 35
        },
        "colab_type": "code",
        "id": "T-LuaKWdsKIn",
        "outputId": "a91c3848-85c5-4f31-b968-5ec070d6d1fa"
      },
      "outputs": [],
      "source": [
        "prediction"
      ]
    },
    {
      "attachments": {},
      "cell_type": "markdown",
      "metadata": {},
      "source": [
        "Accuracy : 0.88"
      ]
    },
    {
      "cell_type": "markdown",
      "metadata": {},
      "source": []
    }
  ],
  "metadata": {
    "accelerator": "GPU",
    "colab": {
      "authorship_tag": "ABX9TyMH4CbnVnrPqPPnZWyDXl/2",
      "collapsed_sections": [],
      "include_colab_link": true,
      "name": "cnn_for_image_classification.ipynb",
      "provenance": []
    },
    "kernelspec": {
      "display_name": "Python 3",
      "name": "python3"
    },
    "language_info": {
      "codemirror_mode": {
        "name": "ipython",
        "version": 3
      },
      "file_extension": ".py",
      "mimetype": "text/x-python",
      "name": "python",
      "nbconvert_exporter": "python",
      "pygments_lexer": "ipython3",
      "version": "3.11.3"
    }
  },
  "nbformat": 4,
  "nbformat_minor": 0
}
