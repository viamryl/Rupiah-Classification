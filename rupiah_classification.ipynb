{
  "cells": [
    {
      "attachments": {},
      "cell_type": "markdown",
      "metadata": {
        "colab_type": "text",
        "id": "view-in-github"
      },
      "source": [
        "<a href=\"https://colab.research.google.com/github/mesushan/CNN-for-image-Classification/blob/master/cnn_for_image_classification.ipynb\" target=\"_parent\"><img src=\"https://colab.research.google.com/assets/colab-badge.svg\" alt=\"Open In Colab\"/></a>"
      ]
    },
    {
      "cell_type": "code",
      "execution_count": 1,
      "metadata": {
        "colab": {},
        "colab_type": "code",
        "id": "9S_E5AgNJkNA"
      },
      "outputs": [],
      "source": [
        "import tensorflow as tf"
      ]
    },
    {
      "cell_type": "code",
      "execution_count": 2,
      "metadata": {},
      "outputs": [],
      "source": [
        "input_size = (128, 128)\n",
        "model = tf.keras.models.Sequential([\n",
        "    tf.keras.layers.Conv2D(128,(3,3),activation = \"relu\"),  \n",
        "    tf.keras.layers.MaxPooling2D(2,2),\n",
        "    tf.keras.layers.Conv2D(64,(3,3),activation = \"relu\") ,  \n",
        "    tf.keras.layers.MaxPooling2D(2,2),\n",
        "    tf.keras.layers.Conv2D(32,(3,3),activation = \"relu\") ,  \n",
        "    tf.keras.layers.MaxPooling2D(2,2),\n",
        "    tf.keras.layers.Conv2D(16,(3,3),activation = \"relu\" , input_shape = (input_size[0], input_size[1],3)) ,\n",
        "    tf.keras.layers.MaxPooling2D(2,2),\n",
        "    tf.keras.layers.Flatten(), \n",
        "    # tf.keras.layers.Dense(550,activation=\"relu\"),      #Adding the Hidden layer\n",
        "    # tf.keras.layers.Dropout(0.1,seed = 2019),\n",
        "    # tf.keras.layers.Dense(400,activation =\"relu\"),\n",
        "    # tf.keras.layers.Dropout(0.3,seed = 2019),\n",
        "    # tf.keras.layers.Dense(300,activation=\"relu\"),\n",
        "    # tf.keras.layers.Dropout(0.4,seed = 2019),\n",
        "    tf.keras.layers.Dense(128,activation =\"relu\"),\n",
        "    tf.keras.layers.Dropout(0.4,seed = 2019),\n",
        "    tf.keras.layers.Dropout(0.2,seed = 2019),\n",
        "    tf.keras.layers.Dropout(0.1,seed = 2019),\n",
        "    tf.keras.layers.Dense(7,activation = \"softmax\")   #Adding the Output Layer\n",
        "])"
      ]
    },
    {
      "cell_type": "code",
      "execution_count": 3,
      "metadata": {
        "colab": {},
        "colab_type": "code",
        "id": "bS6MNMEzKBxs"
      },
      "outputs": [],
      "source": [
        "# Initialising the CNN\n",
        "# model = tf.keras.models.Sequential()"
      ]
    },
    {
      "cell_type": "code",
      "execution_count": 4,
      "metadata": {
        "colab": {},
        "colab_type": "code",
        "id": "q1p3ZYBEKnQD"
      },
      "outputs": [],
      "source": [
        "# 32 feature detectors with 3*3 dimensions so the convolution layer compose of 32 feature maps\n",
        "# 128 by 128 dimensions with colored image(3 channels)  (tensorflow backend)\n",
        "# input_size = (128, 128)\n",
        "# model.add(tf.keras.layers.Convolution2D(32, 3, 3, input_shape = (input_size[0], input_size[1],3), activation = 'relu'))"
      ]
    },
    {
      "cell_type": "code",
      "execution_count": 5,
      "metadata": {
        "colab": {},
        "colab_type": "code",
        "id": "qEiPkwwULNeC"
      },
      "outputs": [],
      "source": [
        "# reduce the size of feature maps and therefore reduce the number of nodes in the future fully connected layer (reduce time complexity, less compute intense without losing the performace). 2 by 2 deminsion is the recommended option\n",
        "# model.add(tf.keras.layers.MaxPooling2D(pool_size = (3, 3)))"
      ]
    },
    {
      "cell_type": "code",
      "execution_count": 6,
      "metadata": {
        "colab": {},
        "colab_type": "code",
        "id": "yoh6opl-MPpA"
      },
      "outputs": [],
      "source": [
        "# model.add(tf.keras.layers.Convolution2D(64, 3, 3, activation = 'relu'))\n",
        "# model.add(tf.keras.layers.MaxPooling2D(pool_size = (2, 2)))"
      ]
    },
    {
      "cell_type": "code",
      "execution_count": 7,
      "metadata": {
        "colab": {},
        "colab_type": "code",
        "id": "ryYAi7KIMd6n"
      },
      "outputs": [],
      "source": [
        "# flatten all the feature maps in the pooling layer into single vector\n",
        "# model.add(tf.keras.layers.Flatten())"
      ]
    },
    {
      "cell_type": "code",
      "execution_count": 8,
      "metadata": {
        "colab": {},
        "colab_type": "code",
        "id": "MIo_G3EeMlAo"
      },
      "outputs": [],
      "source": [
        "# making classic ann which compose of fully connected layers\n",
        "# number of nodes in hidden layer (output_dim) (common practice is to take the power of 2)\n",
        "# model.add(tf.keras.layers.Dense(units = 128, activation = 'relu'))\n",
        "# # model.add(tf.keras.layers.Dropout(0.5))\n",
        "# model.add(tf.keras.layers.Dense(units = 7, activation = 'softmax'))"
      ]
    },
    {
      "cell_type": "code",
      "execution_count": 4,
      "metadata": {
        "colab": {},
        "colab_type": "code",
        "id": "4jwlI36vMvJW"
      },
      "outputs": [],
      "source": [
        "# Compiling the CNN\n",
        "model.compile(optimizer = 'adam', loss = 'categorical_crossentropy', metrics = ['accuracy'])"
      ]
    },
    {
      "cell_type": "code",
      "execution_count": 20,
      "metadata": {
        "colab": {
          "base_uri": "https://localhost:8080/",
          "height": 1000
        },
        "colab_type": "code",
        "id": "ggxWEo0-M1h3",
        "outputId": "ed4717df-e4b5-426f-a81d-d575554d0842"
      },
      "outputs": [
        {
          "name": "stdout",
          "output_type": "stream",
          "text": [
            "Found 688 images belonging to 7 classes.\n"
          ]
        },
        {
          "name": "stdout",
          "output_type": "stream",
          "text": [
            "Found 187 images belonging to 7 classes.\n",
            "Epoch 1/30\n",
            "14/14 [==============================] - 18s 1s/step - loss: 0.1640 - accuracy: 0.9578 - val_loss: 0.4167 - val_accuracy: 0.8717\n",
            "Epoch 2/30\n",
            "14/14 [==============================] - 16s 1s/step - loss: 0.1097 - accuracy: 0.9564 - val_loss: 0.3986 - val_accuracy: 0.8770\n",
            "Epoch 3/30\n",
            "14/14 [==============================] - 16s 1s/step - loss: 0.1048 - accuracy: 0.9622 - val_loss: 0.4125 - val_accuracy: 0.8717\n",
            "Epoch 4/30\n",
            "14/14 [==============================] - 17s 1s/step - loss: 0.1037 - accuracy: 0.9593 - val_loss: 0.3854 - val_accuracy: 0.8930\n",
            "Epoch 5/30\n",
            "14/14 [==============================] - 16s 1s/step - loss: 0.0928 - accuracy: 0.9637 - val_loss: 0.4141 - val_accuracy: 0.8717\n",
            "Epoch 6/30\n",
            "14/14 [==============================] - 15s 1s/step - loss: 0.1149 - accuracy: 0.9578 - val_loss: 0.4049 - val_accuracy: 0.8877\n",
            "Epoch 7/30\n",
            "14/14 [==============================] - 15s 1s/step - loss: 0.1004 - accuracy: 0.9666 - val_loss: 0.4646 - val_accuracy: 0.8770\n",
            "Epoch 8/30\n",
            "14/14 [==============================] - 15s 1s/step - loss: 0.1326 - accuracy: 0.9535 - val_loss: 0.4880 - val_accuracy: 0.8717\n",
            "Epoch 9/30\n",
            "14/14 [==============================] - 15s 1s/step - loss: 0.1307 - accuracy: 0.9564 - val_loss: 0.4280 - val_accuracy: 0.8770\n",
            "Epoch 10/30\n",
            "14/14 [==============================] - 16s 1s/step - loss: 0.1019 - accuracy: 0.9695 - val_loss: 0.5643 - val_accuracy: 0.8556\n",
            "Epoch 11/30\n",
            "14/14 [==============================] - 17s 1s/step - loss: 0.1296 - accuracy: 0.9578 - val_loss: 0.4945 - val_accuracy: 0.8663\n",
            "Epoch 12/30\n",
            "14/14 [==============================] - 16s 1s/step - loss: 0.1555 - accuracy: 0.9491 - val_loss: 0.5319 - val_accuracy: 0.8610\n",
            "Epoch 13/30\n",
            "14/14 [==============================] - 16s 1s/step - loss: 0.2904 - accuracy: 0.9012 - val_loss: 0.5018 - val_accuracy: 0.8610\n",
            "Epoch 14/30\n",
            "14/14 [==============================] - 16s 1s/step - loss: 0.1570 - accuracy: 0.9578 - val_loss: 0.4170 - val_accuracy: 0.8824\n"
          ]
        }
      ],
      "source": [
        "# image augmentation technique to enrich our dataset(training set) without adding more images so get good performance  results with little or no overfitting even with the small amount of images\n",
        "# used from keras documentation (flow_from_directory method)\n",
        "\n",
        "from keras.preprocessing.image import ImageDataGenerator\n",
        "from tensorflow.keras.callbacks import EarlyStopping\n",
        "\n",
        "batch_size = 50\n",
        "# image augmentation part\n",
        "train_datagen = ImageDataGenerator(rescale = 1./255,\n",
        "                                   shear_range = 0.2,\n",
        "                                   zoom_range = 0.2,\n",
        "                                   horizontal_flip = True)\n",
        "\n",
        "test_datagen = ImageDataGenerator(rescale = 1./255)\n",
        "\n",
        "# create training set\n",
        "# wanna get higher accuracy -> inccrease target_size\n",
        "training_set = train_datagen.flow_from_directory('C:\\\\Users\\VA\\Documents\\workspace\\dump_cnn\\dataset\\\\train',\n",
        "                                                 target_size = input_size,\n",
        "                                                 batch_size = batch_size,\n",
        "                                                 class_mode = 'categorical')\n",
        "\n",
        "# create test set\n",
        "# wanna get higher accuracy -> inccrease target_size\n",
        "test_set = test_datagen.flow_from_directory('C:\\\\Users\\VA\\Documents\\workspace\\dump_cnn\\dataset\\\\test',\n",
        "                                            target_size = input_size,\n",
        "                                            batch_size = batch_size,\n",
        "                                            class_mode = 'categorical')\n",
        "\n",
        "early_stopping = EarlyStopping(monitor='val_accuracy', patience=10, restore_best_weights=True)\n",
        "\n",
        "# fit the cnn model to the trainig set and testing it on the test set\n",
        "history = model.fit(training_set,\n",
        "          steps_per_epoch = len(training_set),\n",
        "          epochs = 30,\n",
        "          validation_data = test_set,\n",
        "          validation_steps = len(test_set),\n",
        "          callbacks=[early_stopping])"
      ]
    },
    {
      "cell_type": "code",
      "execution_count": 21,
      "metadata": {},
      "outputs": [
        {
          "data": {
            "image/png": "[encoded data removed]",
            "text/plain": [
              "<Figure size 640x480 with 1 Axes>"
            ]
          },
          "metadata": {},
          "output_type": "display_data"
        }
      ],
      "source": [
        "import matplotlib.pyplot as plt\n",
        "\n",
        "loss_train = history.history['loss']\n",
        "loss_val = history.history['val_loss']\n",
        "epochs = range(1,15)\n",
        "plt.plot(epochs, loss_train, 'g', label='Training loss')\n",
        "plt.plot(epochs, loss_val, 'b', label='validation loss')\n",
        "# plt.plot(x, y, '-', color='green')\n",
        "plt.title('Training and Validation loss')\n",
        "plt.xlabel('Epochs')\n",
        "plt.ylabel('Loss')\n",
        "plt.legend()\n",
        "plt.show()"
      ]
    },
    {
      "cell_type": "code",
      "execution_count": 22,
      "metadata": {},
      "outputs": [
        {
          "data": {
            "image/png": "[encoded data removed]",
            "text/plain": [
              "<Figure size 640x480 with 1 Axes>"
            ]
          },
          "metadata": {},
          "output_type": "display_data"
        }
      ],
      "source": [
        "import matplotlib.pyplot as plt\n",
        "\n",
        "accuracy = history.history['accuracy']\n",
        "val_accuracy = history.history['val_accuracy']\n",
        "epochs = range(1,15)\n",
        "plt.plot(epochs, accuracy, 'g', label='Training accuracy')\n",
        "plt.plot(epochs, val_accuracy, 'b', label='Validation_accuracy')\n",
        "# plt.plot(x, y, '-', color='green')\n",
        "plt.title('Training and Validation Accuracy')\n",
        "plt.xlabel('Epochs')\n",
        "plt.ylabel('Loss')\n",
        "plt.legend()\n",
        "plt.show()"
      ]
    },
    {
      "cell_type": "code",
      "execution_count": null,
      "metadata": {},
      "outputs": [],
      "source": [
        "# import os\n",
        "# import numpy as np\n",
        "# from sklearn.metrics import accuracy_score, classification_report\n",
        "\n",
        "# # Define the paths to your training and test dataset directories\n",
        "# train_dir = \"C:\\\\Users\\\\VA\\\\Documents\\\\workspace\\\\dump_cnn\\\\dataset\\\\train\"\n",
        "# test_dir = \"C:\\\\Users\\\\VA\\\\Documents\\\\workspace\\\\dump_cnn\\\\dataset\\\\test\"\n",
        "\n",
        "# # Get a list of class (folder) names based on the training data\n",
        "# class_names = sorted(os.listdir(train_dir))\n",
        "\n",
        "# # Initialize lists to store ground truth labels and predicted labels\n",
        "# y_true = []\n",
        "# y_pred = []\n",
        "\n",
        "# # Iterate through each class folder\n",
        "# for class_name in class_names:\n",
        "#     class_train_dir = os.path.join(train_dir, class_name)\n",
        "#     class_label = class_names.index(class_name)  # Assign a label based on folder name\n",
        "\n",
        "#     # Iterate through images in the test class folder\n",
        "#     class_test_dir = os.path.join(test_dir, class_name)\n",
        "#     for image_name in os.listdir(class_test_dir):\n",
        "#         image_path = os.path.join(class_test_dir, image_name)\n",
        "#         # Here, you would load and preprocess the image and make predictions using your model\n",
        "#         # Replace this with your actual prediction code\n",
        "#         predicted_label = predictions(image_path)  # Replace with your prediction function\n",
        "\n",
        "#         # Append the true label and predicted label\n",
        "#         y_true.append(class_label)\n",
        "#         y_pred.append(predicted_label)\n",
        "\n",
        "# # Calculate overall accuracy\n",
        "# overall_accuracy = accuracy_score(y_true, y_pred)\n",
        "\n",
        "# # Calculate class-wise accuracy\n",
        "# class_accuracy = classification_report(y_true, y_pred, target_names=class_names)\n",
        "\n",
        "# # Print overall accuracy\n",
        "# print(f\"Overall Accuracy: {overall_accuracy}\")\n",
        "\n",
        "# # Print class-wise accuracy\n",
        "# print(\"Class-wise Accuracy:\")\n",
        "# print(class_accuracy)\n"
      ]
    },
    {
      "cell_type": "code",
      "execution_count": 18,
      "metadata": {},
      "outputs": [],
      "source": [
        "# model.save('cnn_v101.h5') #overfitting issue"
      ]
    },
    {
      "cell_type": "code",
      "execution_count": 23,
      "metadata": {
        "colab": {},
        "colab_type": "code",
        "id": "zkpQ9_Bbdgug"
      },
      "outputs": [],
      "source": [
        "import numpy as np\n",
        "import keras.utils as image\n",
        "# from keras.preprocessing import image"
      ]
    },
    {
      "cell_type": "code",
      "execution_count": 77,
      "metadata": {
        "colab": {},
        "colab_type": "code",
        "id": "OARxcBiKqhaP"
      },
      "outputs": [
        {
          "name": "stdout",
          "output_type": "stream",
          "text": [
            "1/1 [==============================] - 0s 29ms/step\n"
          ]
        }
      ],
      "source": [
        "test_image = image.load_img('C:\\\\Users\\VA\\Documents\\workspace\\dump_cnn\\dataset\\\\predict\\\\serebu.jpeg', target_size= input_size)\n",
        "test_image = image.img_to_array(test_image)\n",
        "test_image = np.expand_dims(test_image, axis = 0)\n",
        "result = model.predict(test_image)\n",
        "test_image = test_image/255.0"
      ]
    },
    {
      "cell_type": "code",
      "execution_count": 78,
      "metadata": {},
      "outputs": [
        {
          "data": {
            "text/plain": [
              "{'duapuluh': 0,\n",
              " 'duaribu': 1,\n",
              " 'limapuluh': 2,\n",
              " 'limaribu': 3,\n",
              " 'sepuluh': 4,\n",
              " 'seratus': 5,\n",
              " 'seribu': 6}"
            ]
          },
          "execution_count": 78,
          "metadata": {},
          "output_type": "execute_result"
        }
      ],
      "source": [
        "training_set.class_indices"
      ]
    },
    {
      "cell_type": "code",
      "execution_count": 79,
      "metadata": {},
      "outputs": [
        {
          "name": "stdout",
          "output_type": "stream",
          "text": [
            "1/1 [==============================] - 0s 26ms/step\n"
          ]
        },
        {
          "data": {
            "text/plain": [
              "array([0.269, 0.262, 0.043, 0.004, 0.001, 0.025, 0.396], dtype=float32)"
            ]
          },
          "execution_count": 79,
          "metadata": {},
          "output_type": "execute_result"
        }
      ],
      "source": [
        "predictions = model.predict(test_image)\n",
        "np.around(predictions[0],3)"
      ]
    },
    {
      "cell_type": "code",
      "execution_count": 80,
      "metadata": {},
      "outputs": [
        {
          "data": {
            "text/plain": [
              "6"
            ]
          },
          "execution_count": 80,
          "metadata": {},
          "output_type": "execute_result"
        }
      ],
      "source": [
        "class_index = np.argmax(predictions)\n",
        "class_label = training_set.class_indices\n",
        "predicted_class = list(class_label.keys())[list(class_label.values()).index(class_index)]\n",
        "class_index"
      ]
    },
    {
      "cell_type": "code",
      "execution_count": 81,
      "metadata": {},
      "outputs": [
        {
          "name": "stdout",
          "output_type": "stream",
          "text": [
            "Predicted class: seribu\n",
            "Class probabilities: [0.269 0.262 0.043 0.004 0.001 0.025 0.396]\n"
          ]
        }
      ],
      "source": [
        "print(\"Predicted class:\", predicted_class)\n",
        "print(\"Class probabilities:\", np.around(predictions[0],3))                  "
      ]
    },
    {
      "cell_type": "code",
      "execution_count": null,
      "metadata": {
        "colab": {
          "base_uri": "https://localhost:8080/",
          "height": 35
        },
        "colab_type": "code",
        "id": "yephYECUq3BH",
        "outputId": "aa6219cf-0719-4857-c100-becf44791bec"
      },
      "outputs": [],
      "source": [
        "training_set.class_indices"
      ]
    },
    {
      "cell_type": "code",
      "execution_count": null,
      "metadata": {},
      "outputs": [],
      "source": [
        "result[0][0]"
      ]
    },
    {
      "cell_type": "code",
      "execution_count": null,
      "metadata": {},
      "outputs": [],
      "source": [
        "result"
      ]
    },
    {
      "cell_type": "code",
      "execution_count": null,
      "metadata": {
        "colab": {},
        "colab_type": "code",
        "id": "KwfR3qnDr2D2"
      },
      "outputs": [],
      "source": [
        "if result [0][0] == 1:\n",
        "  prediction = 'duapuluh'\n",
        "elif result [0][1] == 1:\n",
        "  prediction = \"limapuluh\"\n",
        "else:\n",
        "  prediction = 'seratus'"
      ]
    },
    {
      "cell_type": "code",
      "execution_count": null,
      "metadata": {
        "colab": {
          "base_uri": "https://localhost:8080/",
          "height": 35
        },
        "colab_type": "code",
        "id": "T-LuaKWdsKIn",
        "outputId": "a91c3848-85c5-4f31-b968-5ec070d6d1fa"
      },
      "outputs": [],
      "source": [
        "prediction"
      ]
    },
    {
      "attachments": {},
      "cell_type": "markdown",
      "metadata": {},
      "source": [
        "Accuracy : 0.88"
      ]
    },
    {
      "cell_type": "markdown",
      "metadata": {},
      "source": []
    }
  ],
  "metadata": {
    "accelerator": "GPU",
    "colab": {
      "authorship_tag": "ABX9TyMH4CbnVnrPqPPnZWyDXl/2",
      "collapsed_sections": [],
      "include_colab_link": true,
      "name": "cnn_for_image_classification.ipynb",
      "provenance": []
    },
    "kernelspec": {
      "display_name": "Python 3",
      "name": "python3"
    },
    "language_info": {
      "codemirror_mode": {
        "name": "ipython",
        "version": 3
      },
      "file_extension": ".py",
      "mimetype": "text/x-python",
      "name": "python",
      "nbconvert_exporter": "python",
      "pygments_lexer": "ipython3",
      "version": "3.11.3"
    }
  },
  "nbformat": 4,
  "nbformat_minor": 0
}
