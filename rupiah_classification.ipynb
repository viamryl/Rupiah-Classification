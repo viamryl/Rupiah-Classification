{
  "cells": [
    {
      "attachments": {},
      "cell_type": "markdown",
      "metadata": {
        "colab_type": "text",
        "id": "view-in-github"
      },
      "source": [
        "<a href=\"https://colab.research.google.com/github/mesushan/CNN-for-image-Classification/blob/master/cnn_for_image_classification.ipynb\" target=\"_parent\"><img src=\"https://colab.research.google.com/assets/colab-badge.svg\" alt=\"Open In Colab\"/></a>"
      ]
    },
    {
      "cell_type": "code",
      "execution_count": 23,
      "metadata": {
        "colab": {},
        "colab_type": "code",
        "id": "9S_E5AgNJkNA"
      },
      "outputs": [],
      "source": [
        "import tensorflow as tf"
      ]
    },
    {
      "cell_type": "code",
      "execution_count": 24,
      "metadata": {
        "colab": {},
        "colab_type": "code",
        "id": "bS6MNMEzKBxs"
      },
      "outputs": [],
      "source": [
        "# Initialising the CNN\n",
        "model = tf.keras.models.Sequential()"
      ]
    },
    {
      "cell_type": "code",
      "execution_count": 25,
      "metadata": {
        "colab": {},
        "colab_type": "code",
        "id": "q1p3ZYBEKnQD"
      },
      "outputs": [],
      "source": [
        "# 32 feature detectors with 3*3 dimensions so the convolution layer compose of 32 feature maps\n",
        "# 128 by 128 dimensions with colored image(3 channels)  (tensorflow backend)\n",
        "input_size = (128, 128)\n",
        "model.add(tf.keras.layers.Convolution2D(32, 3, 3, input_shape = (input_size[0], input_size[1],3), activation = 'relu'))"
      ]
    },
    {
      "cell_type": "code",
      "execution_count": 26,
      "metadata": {
        "colab": {},
        "colab_type": "code",
        "id": "qEiPkwwULNeC"
      },
      "outputs": [],
      "source": [
        "# reduce the size of feature maps and therefore reduce the number of nodes in the future fully connected layer (reduce time complexity, less compute intense without losing the performace). 2 by 2 deminsion is the recommended option\n",
        "model.add(tf.keras.layers.MaxPooling2D(pool_size = (3, 3)))"
      ]
    },
    {
      "cell_type": "code",
      "execution_count": 27,
      "metadata": {
        "colab": {},
        "colab_type": "code",
        "id": "yoh6opl-MPpA"
      },
      "outputs": [],
      "source": [
        "model.add(tf.keras.layers.Convolution2D(64, 3, 3, activation = 'relu'))\n",
        "model.add(tf.keras.layers.MaxPooling2D(pool_size = (2, 2)))"
      ]
    },
    {
      "cell_type": "code",
      "execution_count": 28,
      "metadata": {
        "colab": {},
        "colab_type": "code",
        "id": "ryYAi7KIMd6n"
      },
      "outputs": [],
      "source": [
        "# flatten all the feature maps in the pooling layer into single vector\n",
        "model.add(tf.keras.layers.Flatten())"
      ]
    },
    {
      "cell_type": "code",
      "execution_count": 29,
      "metadata": {
        "colab": {},
        "colab_type": "code",
        "id": "MIo_G3EeMlAo"
      },
      "outputs": [],
      "source": [
        "# making classic ann which compose of fully connected layers\n",
        "# number of nodes in hidden layer (output_dim) (common practice is to take the power of 2)\n",
        "model.add(tf.keras.layers.Dense(units = 128, activation = 'relu'))\n",
        "# model.add(tf.keras.layers.Dropout(0.5))\n",
        "model.add(tf.keras.layers.Dense(units = 5, activation = 'softmax'))"
      ]
    },
    {
      "cell_type": "code",
      "execution_count": 30,
      "metadata": {
        "colab": {},
        "colab_type": "code",
        "id": "4jwlI36vMvJW"
      },
      "outputs": [],
      "source": [
        "# Compiling the CNN\n",
        "model.compile(optimizer = 'adam', loss = 'categorical_crossentropy', metrics = ['accuracy'])"
      ]
    },
    {
      "cell_type": "code",
      "execution_count": 31,
      "metadata": {
        "colab": {
          "base_uri": "https://localhost:8080/",
          "height": 1000
        },
        "colab_type": "code",
        "id": "ggxWEo0-M1h3",
        "outputId": "ed4717df-e4b5-426f-a81d-d575554d0842"
      },
      "outputs": [
        {
          "name": "stdout",
          "output_type": "stream",
          "text": [
            "Found 629 images belonging to 5 classes.\n",
            "Found 169 images belonging to 5 classes.\n",
            "Epoch 1/50\n"
          ]
        },
        {
          "name": "stdout",
          "output_type": "stream",
          "text": [
            "13/13 [==============================] - 3s 210ms/step - loss: 1.4394 - accuracy: 0.3307 - val_loss: 1.3489 - val_accuracy: 0.5325\n",
            "Epoch 2/50\n",
            "13/13 [==============================] - 3s 221ms/step - loss: 1.2532 - accuracy: 0.5183 - val_loss: 1.1293 - val_accuracy: 0.6036\n",
            "Epoch 3/50\n",
            "13/13 [==============================] - 3s 236ms/step - loss: 1.0822 - accuracy: 0.5851 - val_loss: 1.0674 - val_accuracy: 0.6450\n",
            "Epoch 4/50\n",
            "13/13 [==============================] - 4s 284ms/step - loss: 0.9664 - accuracy: 0.6359 - val_loss: 0.9498 - val_accuracy: 0.5976\n",
            "Epoch 5/50\n",
            "13/13 [==============================] - 4s 267ms/step - loss: 0.8977 - accuracy: 0.6598 - val_loss: 0.8823 - val_accuracy: 0.6864\n",
            "Epoch 6/50\n",
            "13/13 [==============================] - 4s 270ms/step - loss: 0.8488 - accuracy: 0.6725 - val_loss: 0.8745 - val_accuracy: 0.6627\n",
            "Epoch 7/50\n",
            "13/13 [==============================] - 3s 262ms/step - loss: 0.8450 - accuracy: 0.6804 - val_loss: 0.9200 - val_accuracy: 0.6450\n",
            "Epoch 8/50\n",
            "13/13 [==============================] - 3s 247ms/step - loss: 0.8520 - accuracy: 0.6518 - val_loss: 0.8384 - val_accuracy: 0.6864\n",
            "Epoch 9/50\n",
            "13/13 [==============================] - 4s 276ms/step - loss: 0.7979 - accuracy: 0.7075 - val_loss: 0.8189 - val_accuracy: 0.7456\n",
            "Epoch 10/50\n",
            "13/13 [==============================] - 3s 254ms/step - loss: 0.7468 - accuracy: 0.7218 - val_loss: 0.7662 - val_accuracy: 0.7692\n",
            "Epoch 11/50\n",
            "13/13 [==============================] - 4s 274ms/step - loss: 0.7217 - accuracy: 0.7440 - val_loss: 0.7538 - val_accuracy: 0.7811\n",
            "Epoch 12/50\n",
            "13/13 [==============================] - 3s 247ms/step - loss: 0.6716 - accuracy: 0.7663 - val_loss: 0.6888 - val_accuracy: 0.7396\n",
            "Epoch 13/50\n",
            "13/13 [==============================] - 3s 238ms/step - loss: 0.6493 - accuracy: 0.7790 - val_loss: 0.6467 - val_accuracy: 0.7929\n",
            "Epoch 14/50\n",
            "13/13 [==============================] - 4s 282ms/step - loss: 0.6260 - accuracy: 0.7774 - val_loss: 0.6145 - val_accuracy: 0.7929\n",
            "Epoch 15/50\n",
            "13/13 [==============================] - 3s 262ms/step - loss: 0.6419 - accuracy: 0.7679 - val_loss: 0.7481 - val_accuracy: 0.6805\n",
            "Epoch 16/50\n",
            "13/13 [==============================] - 3s 256ms/step - loss: 0.6175 - accuracy: 0.7742 - val_loss: 0.5837 - val_accuracy: 0.8166\n",
            "Epoch 17/50\n",
            "13/13 [==============================] - 3s 269ms/step - loss: 0.5811 - accuracy: 0.8060 - val_loss: 0.6194 - val_accuracy: 0.7811\n",
            "Epoch 18/50\n",
            "13/13 [==============================] - 3s 255ms/step - loss: 0.5438 - accuracy: 0.8045 - val_loss: 0.5787 - val_accuracy: 0.7929\n",
            "Epoch 19/50\n",
            "13/13 [==============================] - 3s 253ms/step - loss: 0.5162 - accuracy: 0.8378 - val_loss: 0.5487 - val_accuracy: 0.8107\n",
            "Epoch 20/50\n",
            "13/13 [==============================] - 3s 245ms/step - loss: 0.4747 - accuracy: 0.8633 - val_loss: 0.5565 - val_accuracy: 0.7929\n",
            "Epoch 21/50\n",
            "13/13 [==============================] - 4s 267ms/step - loss: 0.4802 - accuracy: 0.8474 - val_loss: 0.6031 - val_accuracy: 0.7811\n",
            "Epoch 22/50\n",
            "13/13 [==============================] - 4s 267ms/step - loss: 0.4614 - accuracy: 0.8521 - val_loss: 0.4897 - val_accuracy: 0.8521\n",
            "Epoch 23/50\n",
            "13/13 [==============================] - 3s 258ms/step - loss: 0.4375 - accuracy: 0.8569 - val_loss: 0.5411 - val_accuracy: 0.7929\n",
            "Epoch 24/50\n",
            "13/13 [==============================] - 3s 245ms/step - loss: 0.4514 - accuracy: 0.8474 - val_loss: 0.4685 - val_accuracy: 0.8580\n",
            "Epoch 25/50\n",
            "13/13 [==============================] - 3s 253ms/step - loss: 0.4058 - accuracy: 0.8585 - val_loss: 0.4810 - val_accuracy: 0.8580\n",
            "Epoch 26/50\n",
            "13/13 [==============================] - 3s 264ms/step - loss: 0.4253 - accuracy: 0.8553 - val_loss: 0.4467 - val_accuracy: 0.8639\n",
            "Epoch 27/50\n",
            "13/13 [==============================] - 3s 257ms/step - loss: 0.3927 - accuracy: 0.8792 - val_loss: 0.5128 - val_accuracy: 0.8521\n",
            "Epoch 28/50\n",
            "13/13 [==============================] - 3s 239ms/step - loss: 0.3754 - accuracy: 0.8808 - val_loss: 0.4430 - val_accuracy: 0.8639\n",
            "Epoch 29/50\n",
            "13/13 [==============================] - 3s 257ms/step - loss: 0.3723 - accuracy: 0.8760 - val_loss: 0.5189 - val_accuracy: 0.8225\n",
            "Epoch 30/50\n",
            "13/13 [==============================] - 3s 257ms/step - loss: 0.4040 - accuracy: 0.8553 - val_loss: 0.4307 - val_accuracy: 0.8639\n",
            "Epoch 31/50\n",
            "13/13 [==============================] - 4s 283ms/step - loss: 0.3662 - accuracy: 0.8871 - val_loss: 0.5344 - val_accuracy: 0.8521\n",
            "Epoch 32/50\n",
            "13/13 [==============================] - 3s 256ms/step - loss: 0.3374 - accuracy: 0.8903 - val_loss: 0.4520 - val_accuracy: 0.8639\n",
            "Epoch 33/50\n",
            "13/13 [==============================] - 4s 271ms/step - loss: 0.3460 - accuracy: 0.8855 - val_loss: 0.4732 - val_accuracy: 0.8462\n",
            "Epoch 34/50\n",
            "13/13 [==============================] - 3s 269ms/step - loss: 0.3196 - accuracy: 0.8998 - val_loss: 0.4142 - val_accuracy: 0.8639\n",
            "Epoch 35/50\n",
            "13/13 [==============================] - 3s 247ms/step - loss: 0.3355 - accuracy: 0.8903 - val_loss: 0.4343 - val_accuracy: 0.8639\n",
            "Epoch 36/50\n",
            "13/13 [==============================] - 3s 239ms/step - loss: 0.3309 - accuracy: 0.8855 - val_loss: 0.3657 - val_accuracy: 0.8876\n",
            "Epoch 37/50\n",
            "13/13 [==============================] - 3s 247ms/step - loss: 0.3227 - accuracy: 0.8951 - val_loss: 0.4319 - val_accuracy: 0.8639\n",
            "Epoch 38/50\n",
            "13/13 [==============================] - 3s 258ms/step - loss: 0.3102 - accuracy: 0.8919 - val_loss: 0.3429 - val_accuracy: 0.8817\n",
            "Epoch 39/50\n",
            "13/13 [==============================] - 3s 250ms/step - loss: 0.3143 - accuracy: 0.9094 - val_loss: 0.4982 - val_accuracy: 0.8580\n",
            "Epoch 40/50\n",
            "13/13 [==============================] - 3s 259ms/step - loss: 0.2930 - accuracy: 0.8983 - val_loss: 0.3530 - val_accuracy: 0.8876\n",
            "Epoch 41/50\n",
            "13/13 [==============================] - 3s 248ms/step - loss: 0.2900 - accuracy: 0.8935 - val_loss: 0.4092 - val_accuracy: 0.8817\n",
            "Epoch 42/50\n",
            "13/13 [==============================] - 3s 252ms/step - loss: 0.2878 - accuracy: 0.8998 - val_loss: 0.3472 - val_accuracy: 0.8876\n",
            "Epoch 43/50\n",
            "13/13 [==============================] - 3s 260ms/step - loss: 0.3035 - accuracy: 0.9046 - val_loss: 0.3818 - val_accuracy: 0.8757\n",
            "Epoch 44/50\n",
            "13/13 [==============================] - 3s 254ms/step - loss: 0.2791 - accuracy: 0.9014 - val_loss: 0.4227 - val_accuracy: 0.8757\n",
            "Epoch 45/50\n",
            "13/13 [==============================] - 3s 238ms/step - loss: 0.2730 - accuracy: 0.9110 - val_loss: 0.3529 - val_accuracy: 0.8698\n",
            "Epoch 46/50\n",
            "13/13 [==============================] - 3s 241ms/step - loss: 0.2519 - accuracy: 0.9126 - val_loss: 0.3585 - val_accuracy: 0.8639\n",
            "Epoch 47/50\n",
            "13/13 [==============================] - 3s 242ms/step - loss: 0.2345 - accuracy: 0.9141 - val_loss: 0.3537 - val_accuracy: 0.8935\n",
            "Epoch 48/50\n",
            "13/13 [==============================] - 3s 244ms/step - loss: 0.2463 - accuracy: 0.9285 - val_loss: 0.3791 - val_accuracy: 0.8817\n",
            "Epoch 49/50\n",
            "13/13 [==============================] - 3s 251ms/step - loss: 0.2465 - accuracy: 0.9205 - val_loss: 0.3397 - val_accuracy: 0.8698\n",
            "Epoch 50/50\n",
            "13/13 [==============================] - 3s 270ms/step - loss: 0.2520 - accuracy: 0.9141 - val_loss: 0.3265 - val_accuracy: 0.8876\n"
          ]
        },
        {
          "data": {
            "text/plain": [
              "<keras.callbacks.History at 0x1da3d164f10>"
            ]
          },
          "execution_count": 31,
          "metadata": {},
          "output_type": "execute_result"
        }
      ],
      "source": [
        "# image augmentation technique to enrich our dataset(training set) without adding more images so get good performance  results with little or no overfitting even with the small amount of images\n",
        "# used from keras documentation (flow_from_directory method)\n",
        "\n",
        "from keras.preprocessing.image import ImageDataGenerator\n",
        "batch_size = 50\n",
        "# image augmentation part\n",
        "train_datagen = ImageDataGenerator(rescale = 1./255,\n",
        "                                   shear_range = 0.2,\n",
        "                                   zoom_range = 0.2,\n",
        "                                   horizontal_flip = True)\n",
        "\n",
        "test_datagen = ImageDataGenerator(rescale = 1./255)\n",
        "\n",
        "# create training set\n",
        "# wanna get higher accuracy -> inccrease target_size\n",
        "training_set = train_datagen.flow_from_directory('C:\\\\Users\\VA\\Documents\\workspace\\dump_cnn\\dataset\\\\train',\n",
        "                                                 target_size = input_size,\n",
        "                                                 batch_size = batch_size,\n",
        "                                                 class_mode = 'categorical')\n",
        "\n",
        "# create test set\n",
        "# wanna get higher accuracy -> inccrease target_size\n",
        "test_set = test_datagen.flow_from_directory('C:\\\\Users\\VA\\Documents\\workspace\\dump_cnn\\dataset\\\\test',\n",
        "                                            target_size = input_size,\n",
        "                                            batch_size = batch_size,\n",
        "                                            class_mode = 'categorical')\n",
        "\n",
        "# fit the cnn model to the trainig set and testing it on the test set\n",
        "model.fit(training_set,\n",
        "          steps_per_epoch = len(training_set),\n",
        "          epochs = 50,\n",
        "          validation_data = test_set,\n",
        "          validation_steps = len(test_set))"
      ]
    },
    {
      "cell_type": "code",
      "execution_count": 32,
      "metadata": {},
      "outputs": [],
      "source": [
        "# model.save('cnn_v1.h5')"
      ]
    },
    {
      "cell_type": "code",
      "execution_count": 33,
      "metadata": {
        "colab": {},
        "colab_type": "code",
        "id": "zkpQ9_Bbdgug"
      },
      "outputs": [],
      "source": [
        "import numpy as np\n",
        "import keras.utils as image\n",
        "# from keras.preprocessing import image"
      ]
    },
    {
      "cell_type": "code",
      "execution_count": 80,
      "metadata": {
        "colab": {},
        "colab_type": "code",
        "id": "OARxcBiKqhaP"
      },
      "outputs": [
        {
          "name": "stdout",
          "output_type": "stream",
          "text": [
            "1/1 [==============================] - 0s 18ms/step\n"
          ]
        }
      ],
      "source": [
        "test_image = image.load_img('C:\\\\Users\\VA\\Documents\\workspace\\dump_cnn\\dataset\\\\predict\\\\limpuldilipet.jpeg', target_size= input_size)\n",
        "test_image = image.img_to_array(test_image)\n",
        "test_image = np.expand_dims(test_image, axis = 0)\n",
        "result = model.predict(test_image)\n",
        "test_image = test_image/255.0"
      ]
    },
    {
      "cell_type": "code",
      "execution_count": 81,
      "metadata": {},
      "outputs": [
        {
          "name": "stdout",
          "output_type": "stream",
          "text": [
            "1/1 [==============================] - 0s 17ms/step\n"
          ]
        },
        {
          "data": {
            "text/plain": [
              "array([0.007, 0.016, 0.288, 0.   , 0.689], dtype=float32)"
            ]
          },
          "execution_count": 81,
          "metadata": {},
          "output_type": "execute_result"
        }
      ],
      "source": [
        "predictions = model.predict(test_image)\n",
        "np.around(predictions[0],3)"
      ]
    },
    {
      "cell_type": "code",
      "execution_count": 82,
      "metadata": {},
      "outputs": [
        {
          "data": {
            "text/plain": [
              "4"
            ]
          },
          "execution_count": 82,
          "metadata": {},
          "output_type": "execute_result"
        }
      ],
      "source": [
        "class_index = np.argmax(predictions)\n",
        "class_label = training_set.class_indices\n",
        "predicted_class = list(class_label.keys())[list(class_label.values()).index(class_index)]\n",
        "class_index"
      ]
    },
    {
      "cell_type": "code",
      "execution_count": 83,
      "metadata": {},
      "outputs": [
        {
          "name": "stdout",
          "output_type": "stream",
          "text": [
            "Predicted class: seribu\n",
            "Class probabilities: [[6.9522937e-03 1.5854858e-02 2.8816506e-01 8.1125814e-05 6.8894666e-01]]\n"
          ]
        }
      ],
      "source": [
        "print(\"Predicted class:\", predicted_class)\n",
        "print(\"Class probabilities:\", predictions)                  "
      ]
    },
    {
      "cell_type": "code",
      "execution_count": 38,
      "metadata": {
        "colab": {
          "base_uri": "https://localhost:8080/",
          "height": 35
        },
        "colab_type": "code",
        "id": "yephYECUq3BH",
        "outputId": "aa6219cf-0719-4857-c100-becf44791bec"
      },
      "outputs": [
        {
          "data": {
            "text/plain": [
              "{'duapuluh': 0, 'duaribu': 1, 'limapuluh': 2, 'seratus': 3, 'seribu': 4}"
            ]
          },
          "execution_count": 38,
          "metadata": {},
          "output_type": "execute_result"
        }
      ],
      "source": [
        "training_set.class_indices"
      ]
    },
    {
      "cell_type": "code",
      "execution_count": 39,
      "metadata": {},
      "outputs": [
        {
          "data": {
            "text/plain": [
              "0.0"
            ]
          },
          "execution_count": 39,
          "metadata": {},
          "output_type": "execute_result"
        }
      ],
      "source": [
        "result[0][0]"
      ]
    },
    {
      "cell_type": "code",
      "execution_count": 40,
      "metadata": {},
      "outputs": [
        {
          "data": {
            "text/plain": [
              "array([[0., 0., 0., 1., 0.]], dtype=float32)"
            ]
          },
          "execution_count": 40,
          "metadata": {},
          "output_type": "execute_result"
        }
      ],
      "source": [
        "result"
      ]
    },
    {
      "cell_type": "code",
      "execution_count": 41,
      "metadata": {
        "colab": {},
        "colab_type": "code",
        "id": "KwfR3qnDr2D2"
      },
      "outputs": [],
      "source": [
        "if result [0][0] == 1:\n",
        "  prediction = 'duapuluh'\n",
        "elif result [0][1] == 1:\n",
        "  prediction = \"limapuluh\"\n",
        "else:\n",
        "  prediction = 'seratus'"
      ]
    },
    {
      "cell_type": "code",
      "execution_count": 42,
      "metadata": {
        "colab": {
          "base_uri": "https://localhost:8080/",
          "height": 35
        },
        "colab_type": "code",
        "id": "T-LuaKWdsKIn",
        "outputId": "a91c3848-85c5-4f31-b968-5ec070d6d1fa"
      },
      "outputs": [
        {
          "data": {
            "text/plain": [
              "'seratus'"
            ]
          },
          "execution_count": 42,
          "metadata": {},
          "output_type": "execute_result"
        }
      ],
      "source": [
        "prediction"
      ]
    },
    {
      "attachments": {},
      "cell_type": "markdown",
      "metadata": {},
      "source": [
        "Accuracy : 0.98"
      ]
    },
    {
      "cell_type": "markdown",
      "metadata": {},
      "source": []
    }
  ],
  "metadata": {
    "accelerator": "GPU",
    "colab": {
      "authorship_tag": "ABX9TyMH4CbnVnrPqPPnZWyDXl/2",
      "collapsed_sections": [],
      "include_colab_link": true,
      "name": "cnn_for_image_classification.ipynb",
      "provenance": []
    },
    "kernelspec": {
      "display_name": "Python 3",
      "name": "python3"
    },
    "language_info": {
      "codemirror_mode": {
        "name": "ipython",
        "version": 3
      },
      "file_extension": ".py",
      "mimetype": "text/x-python",
      "name": "python",
      "nbconvert_exporter": "python",
      "pygments_lexer": "ipython3",
      "version": "3.11.3"
    }
  },
  "nbformat": 4,
  "nbformat_minor": 0
}
