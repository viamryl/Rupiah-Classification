{
  "cells": [
    {
      "attachments": {},
      "cell_type": "markdown",
      "metadata": {
        "colab_type": "text",
        "id": "view-in-github"
      },
      "source": [
        "<a href=\"https://colab.research.google.com/github/mesushan/CNN-for-image-Classification/blob/master/cnn_for_image_classification.ipynb\" target=\"_parent\"><img src=\"https://colab.research.google.com/assets/colab-badge.svg\" alt=\"Open In Colab\"/></a>"
      ]
    },
    {
      "cell_type": "code",
      "execution_count": 1,
      "metadata": {
        "colab": {},
        "colab_type": "code",
        "id": "9S_E5AgNJkNA"
      },
      "outputs": [],
      "source": [
        "import tensorflow as tf"
      ]
    },
    {
      "cell_type": "code",
      "execution_count": 2,
      "metadata": {
        "colab": {},
        "colab_type": "code",
        "id": "bS6MNMEzKBxs"
      },
      "outputs": [],
      "source": [
        "# Initialising the CNN\n",
        "model = tf.keras.models.Sequential()"
      ]
    },
    {
      "cell_type": "code",
      "execution_count": 3,
      "metadata": {
        "colab": {},
        "colab_type": "code",
        "id": "q1p3ZYBEKnQD"
      },
      "outputs": [],
      "source": [
        "# 32 feature detectors with 3*3 dimensions so the convolution layer compose of 32 feature maps\n",
        "# 128 by 128 dimensions with colored image(3 channels)  (tensorflow backend)\n",
        "input_size = (128, 128)\n",
        "model.add(tf.keras.layers.Convolution2D(32, 3, 3, input_shape = (input_size[0], input_size[1],3), activation = 'relu'))"
      ]
    },
    {
      "cell_type": "code",
      "execution_count": 4,
      "metadata": {
        "colab": {},
        "colab_type": "code",
        "id": "qEiPkwwULNeC"
      },
      "outputs": [],
      "source": [
        "# reduce the size of feature maps and therefore reduce the number of nodes in the future fully connected layer (reduce time complexity, less compute intense without losing the performace). 2 by 2 deminsion is the recommended option\n",
        "model.add(tf.keras.layers.MaxPooling2D(pool_size = (3, 3)))"
      ]
    },
    {
      "cell_type": "code",
      "execution_count": 5,
      "metadata": {
        "colab": {},
        "colab_type": "code",
        "id": "yoh6opl-MPpA"
      },
      "outputs": [],
      "source": [
        "model.add(tf.keras.layers.Convolution2D(64, 3, 3, activation = 'relu'))\n",
        "model.add(tf.keras.layers.MaxPooling2D(pool_size = (2, 2)))"
      ]
    },
    {
      "cell_type": "code",
      "execution_count": 6,
      "metadata": {
        "colab": {},
        "colab_type": "code",
        "id": "ryYAi7KIMd6n"
      },
      "outputs": [],
      "source": [
        "# flatten all the feature maps in the pooling layer into single vector\n",
        "model.add(tf.keras.layers.Flatten())"
      ]
    },
    {
      "cell_type": "code",
      "execution_count": 7,
      "metadata": {
        "colab": {},
        "colab_type": "code",
        "id": "MIo_G3EeMlAo"
      },
      "outputs": [],
      "source": [
        "# making classic ann which compose of fully connected layers\n",
        "# number of nodes in hidden layer (output_dim) (common practice is to take the power of 2)\n",
        "model.add(tf.keras.layers.Dense(units = 128, activation = 'relu'))\n",
        "# model.add(tf.keras.layers.Dropout(0.5))\n",
        "model.add(tf.keras.layers.Dense(units = 3, activation = 'softmax'))"
      ]
    },
    {
      "cell_type": "code",
      "execution_count": 8,
      "metadata": {
        "colab": {},
        "colab_type": "code",
        "id": "4jwlI36vMvJW"
      },
      "outputs": [],
      "source": [
        "# Compiling the CNN\n",
        "model.compile(optimizer = 'adam', loss = 'categorical_crossentropy', metrics = ['accuracy'])"
      ]
    },
    {
      "cell_type": "code",
      "execution_count": 9,
      "metadata": {
        "colab": {
          "base_uri": "https://localhost:8080/",
          "height": 1000
        },
        "colab_type": "code",
        "id": "ggxWEo0-M1h3",
        "outputId": "ed4717df-e4b5-426f-a81d-d575554d0842"
      },
      "outputs": [
        {
          "name": "stdout",
          "output_type": "stream",
          "text": [
            "Found 533 images belonging to 3 classes.\n",
            "Found 144 images belonging to 3 classes.\n"
          ]
        },
        {
          "name": "stdout",
          "output_type": "stream",
          "text": [
            "Epoch 1/50\n",
            "17/17 [==============================] - 3s 120ms/step - loss: 1.0322 - accuracy: 0.4728 - val_loss: 0.9130 - val_accuracy: 0.5625\n",
            "Epoch 2/50\n",
            "17/17 [==============================] - 1s 80ms/step - loss: 0.8041 - accuracy: 0.6567 - val_loss: 0.6961 - val_accuracy: 0.6250\n",
            "Epoch 3/50\n",
            "17/17 [==============================] - 1s 79ms/step - loss: 0.5787 - accuracy: 0.7767 - val_loss: 0.6151 - val_accuracy: 0.6597\n",
            "Epoch 4/50\n",
            "17/17 [==============================] - 1s 84ms/step - loss: 0.5271 - accuracy: 0.7861 - val_loss: 0.4649 - val_accuracy: 0.7778\n",
            "Epoch 5/50\n",
            "17/17 [==============================] - 1s 87ms/step - loss: 0.4475 - accuracy: 0.8180 - val_loss: 0.4255 - val_accuracy: 0.7986\n",
            "Epoch 6/50\n",
            "17/17 [==============================] - 1s 79ms/step - loss: 0.3819 - accuracy: 0.8630 - val_loss: 0.4402 - val_accuracy: 0.7917\n",
            "Epoch 7/50\n",
            "17/17 [==============================] - 1s 82ms/step - loss: 0.3563 - accuracy: 0.8687 - val_loss: 0.4163 - val_accuracy: 0.8750\n",
            "Epoch 8/50\n",
            "17/17 [==============================] - 1s 80ms/step - loss: 0.2939 - accuracy: 0.9024 - val_loss: 0.3106 - val_accuracy: 0.8750\n",
            "Epoch 9/50\n",
            "17/17 [==============================] - 1s 80ms/step - loss: 0.2668 - accuracy: 0.9062 - val_loss: 0.4650 - val_accuracy: 0.8056\n",
            "Epoch 10/50\n",
            "17/17 [==============================] - 1s 80ms/step - loss: 0.2469 - accuracy: 0.9156 - val_loss: 0.2952 - val_accuracy: 0.8750\n",
            "Epoch 11/50\n",
            "17/17 [==============================] - 1s 80ms/step - loss: 0.2232 - accuracy: 0.9287 - val_loss: 0.2742 - val_accuracy: 0.9028\n",
            "Epoch 12/50\n",
            "17/17 [==============================] - 1s 82ms/step - loss: 0.2114 - accuracy: 0.9306 - val_loss: 0.2017 - val_accuracy: 0.9375\n",
            "Epoch 13/50\n",
            "17/17 [==============================] - 1s 85ms/step - loss: 0.1752 - accuracy: 0.9512 - val_loss: 0.1679 - val_accuracy: 0.9583\n",
            "Epoch 14/50\n",
            "17/17 [==============================] - 1s 83ms/step - loss: 0.2157 - accuracy: 0.9381 - val_loss: 0.2443 - val_accuracy: 0.9167\n",
            "Epoch 15/50\n",
            "17/17 [==============================] - 1s 79ms/step - loss: 0.1979 - accuracy: 0.9418 - val_loss: 0.2954 - val_accuracy: 0.9167\n",
            "Epoch 16/50\n",
            "17/17 [==============================] - 1s 83ms/step - loss: 0.1674 - accuracy: 0.9512 - val_loss: 0.1704 - val_accuracy: 0.9583\n",
            "Epoch 17/50\n",
            "17/17 [==============================] - 1s 82ms/step - loss: 0.1618 - accuracy: 0.9531 - val_loss: 0.1465 - val_accuracy: 0.9514\n",
            "Epoch 18/50\n",
            "17/17 [==============================] - 1s 79ms/step - loss: 0.1808 - accuracy: 0.9512 - val_loss: 0.1878 - val_accuracy: 0.9514\n",
            "Epoch 19/50\n",
            "17/17 [==============================] - 1s 81ms/step - loss: 0.1421 - accuracy: 0.9606 - val_loss: 0.3267 - val_accuracy: 0.8611\n",
            "Epoch 20/50\n",
            "17/17 [==============================] - 1s 82ms/step - loss: 0.1419 - accuracy: 0.9512 - val_loss: 0.1368 - val_accuracy: 0.9514\n",
            "Epoch 21/50\n",
            "17/17 [==============================] - 1s 82ms/step - loss: 0.1429 - accuracy: 0.9568 - val_loss: 0.1539 - val_accuracy: 0.9514\n",
            "Epoch 22/50\n",
            "17/17 [==============================] - 1s 81ms/step - loss: 0.1069 - accuracy: 0.9625 - val_loss: 0.1545 - val_accuracy: 0.9583\n",
            "Epoch 23/50\n",
            "17/17 [==============================] - 1s 81ms/step - loss: 0.1004 - accuracy: 0.9719 - val_loss: 0.1997 - val_accuracy: 0.9306\n",
            "Epoch 24/50\n",
            "17/17 [==============================] - 1s 79ms/step - loss: 0.1341 - accuracy: 0.9512 - val_loss: 0.2662 - val_accuracy: 0.8750\n",
            "Epoch 25/50\n",
            "17/17 [==============================] - 1s 81ms/step - loss: 0.1257 - accuracy: 0.9587 - val_loss: 0.2936 - val_accuracy: 0.9306\n",
            "Epoch 26/50\n",
            "17/17 [==============================] - 1s 80ms/step - loss: 0.1049 - accuracy: 0.9775 - val_loss: 0.1545 - val_accuracy: 0.9514\n",
            "Epoch 27/50\n",
            "17/17 [==============================] - 1s 84ms/step - loss: 0.0912 - accuracy: 0.9775 - val_loss: 0.1706 - val_accuracy: 0.9583\n",
            "Epoch 28/50\n",
            "17/17 [==============================] - 1s 85ms/step - loss: 0.0878 - accuracy: 0.9719 - val_loss: 0.1392 - val_accuracy: 0.9514\n",
            "Epoch 29/50\n",
            "17/17 [==============================] - 1s 83ms/step - loss: 0.1331 - accuracy: 0.9493 - val_loss: 0.2165 - val_accuracy: 0.9444\n",
            "Epoch 30/50\n",
            "17/17 [==============================] - 1s 80ms/step - loss: 0.1038 - accuracy: 0.9644 - val_loss: 0.1552 - val_accuracy: 0.9583\n",
            "Epoch 31/50\n",
            "17/17 [==============================] - 1s 81ms/step - loss: 0.1060 - accuracy: 0.9756 - val_loss: 0.2129 - val_accuracy: 0.9514\n",
            "Epoch 32/50\n",
            "17/17 [==============================] - 1s 80ms/step - loss: 0.0851 - accuracy: 0.9812 - val_loss: 0.1351 - val_accuracy: 0.9514\n",
            "Epoch 33/50\n",
            "17/17 [==============================] - 1s 80ms/step - loss: 0.0782 - accuracy: 0.9775 - val_loss: 0.1547 - val_accuracy: 0.9444\n",
            "Epoch 34/50\n",
            "17/17 [==============================] - 1s 86ms/step - loss: 0.0732 - accuracy: 0.9775 - val_loss: 0.1406 - val_accuracy: 0.9444\n",
            "Epoch 35/50\n",
            "17/17 [==============================] - 1s 79ms/step - loss: 0.0662 - accuracy: 0.9737 - val_loss: 0.1385 - val_accuracy: 0.9514\n",
            "Epoch 36/50\n",
            "17/17 [==============================] - 1s 80ms/step - loss: 0.0808 - accuracy: 0.9719 - val_loss: 0.1773 - val_accuracy: 0.9444\n",
            "Epoch 37/50\n",
            "17/17 [==============================] - 1s 85ms/step - loss: 0.1039 - accuracy: 0.9644 - val_loss: 0.1612 - val_accuracy: 0.9583\n",
            "Epoch 38/50\n",
            "17/17 [==============================] - 1s 81ms/step - loss: 0.0666 - accuracy: 0.9775 - val_loss: 0.1479 - val_accuracy: 0.9583\n",
            "Epoch 39/50\n",
            "17/17 [==============================] - 1s 81ms/step - loss: 0.0542 - accuracy: 0.9869 - val_loss: 0.1301 - val_accuracy: 0.9583\n",
            "Epoch 40/50\n",
            "17/17 [==============================] - 1s 82ms/step - loss: 0.0514 - accuracy: 0.9831 - val_loss: 0.2194 - val_accuracy: 0.9306\n",
            "Epoch 41/50\n",
            "17/17 [==============================] - 1s 83ms/step - loss: 0.0605 - accuracy: 0.9850 - val_loss: 0.1485 - val_accuracy: 0.9583\n",
            "Epoch 42/50\n",
            "17/17 [==============================] - 1s 81ms/step - loss: 0.0502 - accuracy: 0.9831 - val_loss: 0.1493 - val_accuracy: 0.9583\n",
            "Epoch 43/50\n",
            "17/17 [==============================] - 1s 83ms/step - loss: 0.0511 - accuracy: 0.9887 - val_loss: 0.1900 - val_accuracy: 0.9583\n",
            "Epoch 44/50\n",
            "17/17 [==============================] - 1s 86ms/step - loss: 0.0556 - accuracy: 0.9831 - val_loss: 0.1364 - val_accuracy: 0.9653\n",
            "Epoch 45/50\n",
            "17/17 [==============================] - 1s 81ms/step - loss: 0.0642 - accuracy: 0.9794 - val_loss: 0.1815 - val_accuracy: 0.9583\n",
            "Epoch 46/50\n",
            "17/17 [==============================] - 1s 83ms/step - loss: 0.0567 - accuracy: 0.9850 - val_loss: 0.1486 - val_accuracy: 0.9653\n",
            "Epoch 47/50\n",
            "17/17 [==============================] - 1s 81ms/step - loss: 0.0391 - accuracy: 0.9887 - val_loss: 0.1452 - val_accuracy: 0.9583\n",
            "Epoch 48/50\n",
            "17/17 [==============================] - 1s 81ms/step - loss: 0.0438 - accuracy: 0.9850 - val_loss: 0.1604 - val_accuracy: 0.9514\n",
            "Epoch 49/50\n",
            "17/17 [==============================] - 1s 79ms/step - loss: 0.0552 - accuracy: 0.9831 - val_loss: 0.1677 - val_accuracy: 0.9514\n",
            "Epoch 50/50\n",
            "17/17 [==============================] - 1s 82ms/step - loss: 0.0607 - accuracy: 0.9812 - val_loss: 0.1473 - val_accuracy: 0.9583\n"
          ]
        },
        {
          "data": {
            "text/plain": [
              "<keras.callbacks.History at 0x1f59b56de10>"
            ]
          },
          "execution_count": 9,
          "metadata": {},
          "output_type": "execute_result"
        }
      ],
      "source": [
        "# image augmentation technique to enrich our dataset(training set) without adding more images so get good performance  results with little or no overfitting even with the small amount of images\n",
        "# used from keras documentation (flow_from_directory method)\n",
        "\n",
        "from keras.preprocessing.image import ImageDataGenerator\n",
        "batch_size = 32\n",
        "# image augmentation part\n",
        "train_datagen = ImageDataGenerator(rescale = 1./255,\n",
        "                                   shear_range = 0.2,\n",
        "                                   zoom_range = 0.2,\n",
        "                                   horizontal_flip = True)\n",
        "\n",
        "test_datagen = ImageDataGenerator(rescale = 1./255)\n",
        "\n",
        "# create training set\n",
        "# wanna get higher accuracy -> inccrease target_size\n",
        "training_set = train_datagen.flow_from_directory('C:\\\\Users\\VA\\Documents\\workspace\\dump_cnn\\dataset\\\\train',\n",
        "                                                 target_size = input_size,\n",
        "                                                 batch_size = batch_size,\n",
        "                                                 class_mode = 'categorical')\n",
        "\n",
        "# create test set\n",
        "# wanna get higher accuracy -> inccrease target_size\n",
        "test_set = test_datagen.flow_from_directory('C:\\\\Users\\VA\\Documents\\workspace\\dump_cnn\\dataset\\\\test',\n",
        "                                            target_size = input_size,\n",
        "                                            batch_size = batch_size,\n",
        "                                            class_mode = 'categorical')\n",
        "\n",
        "# fit the cnn model to the trainig set and testing it on the test set\n",
        "model.fit(training_set,\n",
        "          steps_per_epoch = len(training_set),\n",
        "          epochs = 50,\n",
        "          validation_data = test_set,\n",
        "          validation_steps = len(test_set))"
      ]
    },
    {
      "cell_type": "code",
      "execution_count": null,
      "metadata": {},
      "outputs": [],
      "source": [
        "model.save('cnn_v1.h5')"
      ]
    },
    {
      "cell_type": "code",
      "execution_count": 10,
      "metadata": {
        "colab": {},
        "colab_type": "code",
        "id": "zkpQ9_Bbdgug"
      },
      "outputs": [],
      "source": [
        "import numpy as np\n",
        "import keras.utils as image\n",
        "# from keras.preprocessing import image"
      ]
    },
    {
      "cell_type": "code",
      "execution_count": 21,
      "metadata": {
        "colab": {},
        "colab_type": "code",
        "id": "OARxcBiKqhaP"
      },
      "outputs": [
        {
          "name": "stdout",
          "output_type": "stream",
          "text": [
            "1/1 [==============================] - 0s 16ms/step\n"
          ]
        }
      ],
      "source": [
        "test_image = image.load_img('C:\\\\Users\\VA\\Documents\\workspace\\dump_cnn\\dataset\\\\predict\\\\limpuldilipet.jpeg', target_size= input_size)\n",
        "test_image = image.img_to_array(test_image)\n",
        "test_image = np.expand_dims(test_image, axis = 0)\n",
        "result = model.predict(test_image)\n",
        "test_image = test_image/255.0"
      ]
    },
    {
      "cell_type": "code",
      "execution_count": 22,
      "metadata": {},
      "outputs": [
        {
          "name": "stdout",
          "output_type": "stream",
          "text": [
            "1/1 [==============================] - 0s 17ms/step\n"
          ]
        },
        {
          "data": {
            "text/plain": [
              "array([[0.01329593, 0.98428845, 0.00241557]], dtype=float32)"
            ]
          },
          "execution_count": 22,
          "metadata": {},
          "output_type": "execute_result"
        }
      ],
      "source": [
        "predictions = model.predict(test_image)\n",
        "predictions"
      ]
    },
    {
      "cell_type": "code",
      "execution_count": 23,
      "metadata": {},
      "outputs": [
        {
          "data": {
            "text/plain": [
              "1"
            ]
          },
          "execution_count": 23,
          "metadata": {},
          "output_type": "execute_result"
        }
      ],
      "source": [
        "class_index = np.argmax(predictions)\n",
        "class_label = training_set.class_indices\n",
        "predicted_class = list(class_label.keys())[list(class_label.values()).index(class_index)]\n",
        "class_index"
      ]
    },
    {
      "cell_type": "code",
      "execution_count": 24,
      "metadata": {},
      "outputs": [
        {
          "name": "stdout",
          "output_type": "stream",
          "text": [
            "Predicted class: limapuluh\n",
            "Class probabilities: [[0.01329593 0.98428845 0.00241557]]\n"
          ]
        }
      ],
      "source": [
        "print(\"Predicted class:\", predicted_class)\n",
        "print(\"Class probabilities:\", predictions)                  "
      ]
    },
    {
      "cell_type": "code",
      "execution_count": 71,
      "metadata": {
        "colab": {
          "base_uri": "https://localhost:8080/",
          "height": 35
        },
        "colab_type": "code",
        "id": "yephYECUq3BH",
        "outputId": "aa6219cf-0719-4857-c100-becf44791bec"
      },
      "outputs": [
        {
          "data": {
            "text/plain": [
              "{'duapuluh': 0, 'limapuluh': 1, 'seratus': 2}"
            ]
          },
          "execution_count": 71,
          "metadata": {},
          "output_type": "execute_result"
        }
      ],
      "source": [
        "training_set.class_indices"
      ]
    },
    {
      "cell_type": "code",
      "execution_count": 72,
      "metadata": {},
      "outputs": [
        {
          "data": {
            "text/plain": [
              "0.0"
            ]
          },
          "execution_count": 72,
          "metadata": {},
          "output_type": "execute_result"
        }
      ],
      "source": [
        "result[0][0]"
      ]
    },
    {
      "cell_type": "code",
      "execution_count": 73,
      "metadata": {},
      "outputs": [
        {
          "data": {
            "text/plain": [
              "array([[0.0000000e+00, 3.1549512e-06, 9.9999690e-01]], dtype=float32)"
            ]
          },
          "execution_count": 73,
          "metadata": {},
          "output_type": "execute_result"
        }
      ],
      "source": [
        "result"
      ]
    },
    {
      "cell_type": "code",
      "execution_count": 74,
      "metadata": {
        "colab": {},
        "colab_type": "code",
        "id": "KwfR3qnDr2D2"
      },
      "outputs": [],
      "source": [
        "if result [0][0] == 1:\n",
        "  prediction = 'duapuluh'\n",
        "elif result [0][1] == 1:\n",
        "  prediction = \"limapuluh\"\n",
        "else:\n",
        "  prediction = 'seratus'"
      ]
    },
    {
      "cell_type": "code",
      "execution_count": 75,
      "metadata": {
        "colab": {
          "base_uri": "https://localhost:8080/",
          "height": 35
        },
        "colab_type": "code",
        "id": "T-LuaKWdsKIn",
        "outputId": "a91c3848-85c5-4f31-b968-5ec070d6d1fa"
      },
      "outputs": [
        {
          "data": {
            "text/plain": [
              "'seratus'"
            ]
          },
          "execution_count": 75,
          "metadata": {},
          "output_type": "execute_result"
        }
      ],
      "source": [
        "prediction"
      ]
    },
    {
      "attachments": {},
      "cell_type": "markdown",
      "metadata": {},
      "source": [
        "Accuracy : 0.98"
      ]
    },
    {
      "cell_type": "markdown",
      "metadata": {},
      "source": []
    }
  ],
  "metadata": {
    "accelerator": "GPU",
    "colab": {
      "authorship_tag": "ABX9TyMH4CbnVnrPqPPnZWyDXl/2",
      "collapsed_sections": [],
      "include_colab_link": true,
      "name": "cnn_for_image_classification.ipynb",
      "provenance": []
    },
    "kernelspec": {
      "display_name": "Python 3",
      "name": "python3"
    },
    "language_info": {
      "codemirror_mode": {
        "name": "ipython",
        "version": 3
      },
      "file_extension": ".py",
      "mimetype": "text/x-python",
      "name": "python",
      "nbconvert_exporter": "python",
      "pygments_lexer": "ipython3",
      "version": "3.11.3"
    }
  },
  "nbformat": 4,
  "nbformat_minor": 0
}
