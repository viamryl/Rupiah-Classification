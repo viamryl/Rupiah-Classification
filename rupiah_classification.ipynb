{
  "cells": [
    {
      "attachments": {},
      "cell_type": "markdown",
      "metadata": {
        "colab_type": "text",
        "id": "view-in-github"
      },
      "source": [
        "<a href=\"https://colab.research.google.com/github/mesushan/CNN-for-image-Classification/blob/master/cnn_for_image_classification.ipynb\" target=\"_parent\"><img src=\"https://colab.research.google.com/assets/colab-badge.svg\" alt=\"Open In Colab\"/></a>"
      ]
    },
    {
      "cell_type": "code",
      "execution_count": 48,
      "metadata": {
        "colab": {},
        "colab_type": "code",
        "id": "9S_E5AgNJkNA"
      },
      "outputs": [],
      "source": [
        "import tensorflow as tf"
      ]
    },
    {
      "cell_type": "code",
      "execution_count": 49,
      "metadata": {
        "colab": {},
        "colab_type": "code",
        "id": "bS6MNMEzKBxs"
      },
      "outputs": [],
      "source": [
        "# Initialising the CNN\n",
        "model = tf.keras.models.Sequential()"
      ]
    },
    {
      "cell_type": "code",
      "execution_count": 50,
      "metadata": {
        "colab": {},
        "colab_type": "code",
        "id": "q1p3ZYBEKnQD"
      },
      "outputs": [],
      "source": [
        "# 32 feature detectors with 3*3 dimensions so the convolution layer compose of 32 feature maps\n",
        "# 128 by 128 dimensions with colored image(3 channels)  (tensorflow backend)\n",
        "input_size = (128, 128)\n",
        "model.add(tf.keras.layers.Convolution2D(32, 3, 3, input_shape = (input_size[0], input_size[1],3), activation = 'relu'))"
      ]
    },
    {
      "cell_type": "code",
      "execution_count": 51,
      "metadata": {
        "colab": {},
        "colab_type": "code",
        "id": "qEiPkwwULNeC"
      },
      "outputs": [],
      "source": [
        "# reduce the size of feature maps and therefore reduce the number of nodes in the future fully connected layer (reduce time complexity, less compute intense without losing the performace). 2 by 2 deminsion is the recommended option\n",
        "model.add(tf.keras.layers.MaxPooling2D(pool_size = (3, 3)))"
      ]
    },
    {
      "cell_type": "code",
      "execution_count": 52,
      "metadata": {
        "colab": {},
        "colab_type": "code",
        "id": "yoh6opl-MPpA"
      },
      "outputs": [],
      "source": [
        "model.add(tf.keras.layers.Convolution2D(64, 3, 3, activation = 'relu'))\n",
        "model.add(tf.keras.layers.MaxPooling2D(pool_size = (2, 2)))"
      ]
    },
    {
      "cell_type": "code",
      "execution_count": 53,
      "metadata": {
        "colab": {},
        "colab_type": "code",
        "id": "ryYAi7KIMd6n"
      },
      "outputs": [],
      "source": [
        "# flatten all the feature maps in the pooling layer into single vector\n",
        "model.add(tf.keras.layers.Flatten())"
      ]
    },
    {
      "cell_type": "code",
      "execution_count": 54,
      "metadata": {
        "colab": {},
        "colab_type": "code",
        "id": "MIo_G3EeMlAo"
      },
      "outputs": [],
      "source": [
        "# making classic ann which compose of fully connected layers\n",
        "# number of nodes in hidden layer (output_dim) (common practice is to take the power of 2)\n",
        "model.add(tf.keras.layers.Dense(units = 128, activation = 'relu'))\n",
        "# model.add(tf.keras.layers.Dropout(0.5))\n",
        "model.add(tf.keras.layers.Dense(units = 3, activation = 'softmax'))"
      ]
    },
    {
      "cell_type": "code",
      "execution_count": 55,
      "metadata": {
        "colab": {},
        "colab_type": "code",
        "id": "4jwlI36vMvJW"
      },
      "outputs": [],
      "source": [
        "# Compiling the CNN\n",
        "model.compile(optimizer = 'adam', loss = 'categorical_crossentropy', metrics = ['accuracy'])"
      ]
    },
    {
      "cell_type": "code",
      "execution_count": 56,
      "metadata": {
        "colab": {
          "base_uri": "https://localhost:8080/",
          "height": 1000
        },
        "colab_type": "code",
        "id": "ggxWEo0-M1h3",
        "outputId": "ed4717df-e4b5-426f-a81d-d575554d0842"
      },
      "outputs": [
        {
          "name": "stdout",
          "output_type": "stream",
          "text": [
            "Found 476 images belonging to 3 classes.\n",
            "Found 120 images belonging to 3 classes.\n"
          ]
        },
        {
          "name": "stdout",
          "output_type": "stream",
          "text": [
            "Epoch 1/50\n",
            "15/15 [==============================] - 2s 90ms/step - loss: 1.0492 - accuracy: 0.4391 - val_loss: 0.9372 - val_accuracy: 0.6250\n",
            "Epoch 2/50\n",
            "15/15 [==============================] - 1s 80ms/step - loss: 0.7843 - accuracy: 0.6618 - val_loss: 0.6381 - val_accuracy: 0.7750\n",
            "Epoch 3/50\n",
            "15/15 [==============================] - 1s 79ms/step - loss: 0.6111 - accuracy: 0.7542 - val_loss: 0.5499 - val_accuracy: 0.7750\n",
            "Epoch 4/50\n",
            "15/15 [==============================] - 1s 84ms/step - loss: 0.5275 - accuracy: 0.7647 - val_loss: 0.5203 - val_accuracy: 0.7917\n",
            "Epoch 5/50\n",
            "15/15 [==============================] - 1s 88ms/step - loss: 0.4949 - accuracy: 0.8046 - val_loss: 0.4359 - val_accuracy: 0.8250\n",
            "Epoch 6/50\n",
            "15/15 [==============================] - 1s 85ms/step - loss: 0.4220 - accuracy: 0.8298 - val_loss: 0.4516 - val_accuracy: 0.8583\n",
            "Epoch 7/50\n",
            "15/15 [==============================] - 1s 82ms/step - loss: 0.4044 - accuracy: 0.8466 - val_loss: 0.3489 - val_accuracy: 0.9333\n",
            "Epoch 8/50\n",
            "15/15 [==============================] - 1s 80ms/step - loss: 0.3457 - accuracy: 0.8676 - val_loss: 0.2825 - val_accuracy: 0.9333\n",
            "Epoch 9/50\n",
            "15/15 [==============================] - 1s 81ms/step - loss: 0.3123 - accuracy: 0.8929 - val_loss: 0.2894 - val_accuracy: 0.8417\n",
            "Epoch 10/50\n",
            "15/15 [==============================] - 1s 81ms/step - loss: 0.2796 - accuracy: 0.8908 - val_loss: 0.2180 - val_accuracy: 0.8917\n",
            "Epoch 11/50\n",
            "15/15 [==============================] - 1s 81ms/step - loss: 0.2808 - accuracy: 0.8866 - val_loss: 0.2336 - val_accuracy: 0.9083\n",
            "Epoch 12/50\n",
            "15/15 [==============================] - 1s 82ms/step - loss: 0.2366 - accuracy: 0.9139 - val_loss: 0.1803 - val_accuracy: 0.9333\n",
            "Epoch 13/50\n",
            "15/15 [==============================] - 1s 83ms/step - loss: 0.1819 - accuracy: 0.9433 - val_loss: 0.1746 - val_accuracy: 0.9333\n",
            "Epoch 14/50\n",
            "15/15 [==============================] - 1s 81ms/step - loss: 0.1541 - accuracy: 0.9664 - val_loss: 0.1498 - val_accuracy: 0.9500\n",
            "Epoch 15/50\n",
            "15/15 [==============================] - 1s 82ms/step - loss: 0.1699 - accuracy: 0.9454 - val_loss: 0.1491 - val_accuracy: 0.9500\n",
            "Epoch 16/50\n",
            "15/15 [==============================] - 1s 82ms/step - loss: 0.1408 - accuracy: 0.9601 - val_loss: 0.0932 - val_accuracy: 0.9750\n",
            "Epoch 17/50\n",
            "15/15 [==============================] - 1s 83ms/step - loss: 0.1691 - accuracy: 0.9307 - val_loss: 0.1458 - val_accuracy: 0.9500\n",
            "Epoch 18/50\n",
            "15/15 [==============================] - 1s 84ms/step - loss: 0.1795 - accuracy: 0.9349 - val_loss: 0.1123 - val_accuracy: 0.9583\n",
            "Epoch 19/50\n",
            "15/15 [==============================] - 1s 83ms/step - loss: 0.1505 - accuracy: 0.9517 - val_loss: 0.1250 - val_accuracy: 0.9500\n",
            "Epoch 20/50\n",
            "15/15 [==============================] - 1s 83ms/step - loss: 0.1145 - accuracy: 0.9727 - val_loss: 0.0918 - val_accuracy: 0.9750\n",
            "Epoch 21/50\n",
            "15/15 [==============================] - 1s 84ms/step - loss: 0.0939 - accuracy: 0.9769 - val_loss: 0.0808 - val_accuracy: 0.9917\n",
            "Epoch 22/50\n",
            "15/15 [==============================] - 1s 86ms/step - loss: 0.0878 - accuracy: 0.9748 - val_loss: 0.1225 - val_accuracy: 0.9667\n",
            "Epoch 23/50\n",
            "15/15 [==============================] - 1s 82ms/step - loss: 0.1019 - accuracy: 0.9643 - val_loss: 0.0833 - val_accuracy: 0.9750\n",
            "Epoch 24/50\n",
            "15/15 [==============================] - 1s 86ms/step - loss: 0.0725 - accuracy: 0.9832 - val_loss: 0.0546 - val_accuracy: 0.9917\n",
            "Epoch 25/50\n",
            "15/15 [==============================] - 1s 84ms/step - loss: 0.0639 - accuracy: 0.9790 - val_loss: 0.0543 - val_accuracy: 0.9917\n",
            "Epoch 26/50\n",
            "15/15 [==============================] - 1s 81ms/step - loss: 0.0650 - accuracy: 0.9832 - val_loss: 0.0523 - val_accuracy: 0.9667\n",
            "Epoch 27/50\n",
            "15/15 [==============================] - 1s 83ms/step - loss: 0.0548 - accuracy: 0.9916 - val_loss: 0.0434 - val_accuracy: 0.9917\n",
            "Epoch 28/50\n",
            "15/15 [==============================] - 1s 85ms/step - loss: 0.0665 - accuracy: 0.9853 - val_loss: 0.0407 - val_accuracy: 0.9917\n",
            "Epoch 29/50\n",
            "15/15 [==============================] - 1s 82ms/step - loss: 0.0458 - accuracy: 0.9832 - val_loss: 0.0404 - val_accuracy: 0.9917\n",
            "Epoch 30/50\n",
            "15/15 [==============================] - 1s 83ms/step - loss: 0.0323 - accuracy: 0.9979 - val_loss: 0.0273 - val_accuracy: 0.9917\n",
            "Epoch 31/50\n",
            "15/15 [==============================] - 1s 84ms/step - loss: 0.0312 - accuracy: 0.9916 - val_loss: 0.0249 - val_accuracy: 0.9917\n",
            "Epoch 32/50\n",
            "15/15 [==============================] - 1s 83ms/step - loss: 0.0272 - accuracy: 0.9937 - val_loss: 0.0221 - val_accuracy: 0.9917\n",
            "Epoch 33/50\n",
            "15/15 [==============================] - 1s 87ms/step - loss: 0.0250 - accuracy: 0.9937 - val_loss: 0.0223 - val_accuracy: 0.9917\n",
            "Epoch 34/50\n",
            "15/15 [==============================] - 1s 91ms/step - loss: 0.0284 - accuracy: 0.9937 - val_loss: 0.0164 - val_accuracy: 0.9917\n",
            "Epoch 35/50\n",
            "15/15 [==============================] - 1s 87ms/step - loss: 0.0357 - accuracy: 0.9895 - val_loss: 0.0172 - val_accuracy: 1.0000\n",
            "Epoch 36/50\n",
            "15/15 [==============================] - 1s 86ms/step - loss: 0.0371 - accuracy: 0.9853 - val_loss: 0.0121 - val_accuracy: 0.9917\n",
            "Epoch 37/50\n",
            "15/15 [==============================] - 1s 88ms/step - loss: 0.0228 - accuracy: 0.9958 - val_loss: 0.0147 - val_accuracy: 0.9917\n",
            "Epoch 38/50\n",
            "15/15 [==============================] - 1s 84ms/step - loss: 0.0330 - accuracy: 0.9895 - val_loss: 0.0244 - val_accuracy: 0.9917\n",
            "Epoch 39/50\n",
            "15/15 [==============================] - 1s 93ms/step - loss: 0.0575 - accuracy: 0.9790 - val_loss: 0.0160 - val_accuracy: 0.9917\n",
            "Epoch 40/50\n",
            "15/15 [==============================] - 1s 87ms/step - loss: 0.0659 - accuracy: 0.9727 - val_loss: 0.0523 - val_accuracy: 0.9750\n",
            "Epoch 41/50\n",
            "15/15 [==============================] - 1s 88ms/step - loss: 0.0329 - accuracy: 0.9895 - val_loss: 0.0154 - val_accuracy: 0.9917\n",
            "Epoch 42/50\n",
            "15/15 [==============================] - 1s 87ms/step - loss: 0.0198 - accuracy: 0.9979 - val_loss: 0.0138 - val_accuracy: 0.9917\n",
            "Epoch 43/50\n",
            "15/15 [==============================] - 1s 88ms/step - loss: 0.0129 - accuracy: 1.0000 - val_loss: 0.0057 - val_accuracy: 1.0000\n",
            "Epoch 44/50\n",
            "15/15 [==============================] - 1s 86ms/step - loss: 0.0099 - accuracy: 1.0000 - val_loss: 0.0060 - val_accuracy: 1.0000\n",
            "Epoch 45/50\n",
            "15/15 [==============================] - 1s 85ms/step - loss: 0.0081 - accuracy: 1.0000 - val_loss: 0.0056 - val_accuracy: 1.0000\n",
            "Epoch 46/50\n",
            "15/15 [==============================] - 1s 88ms/step - loss: 0.0108 - accuracy: 1.0000 - val_loss: 0.0048 - val_accuracy: 1.0000\n",
            "Epoch 47/50\n",
            "15/15 [==============================] - 1s 88ms/step - loss: 0.0104 - accuracy: 0.9979 - val_loss: 0.0159 - val_accuracy: 1.0000\n",
            "Epoch 48/50\n",
            "15/15 [==============================] - 1s 87ms/step - loss: 0.0152 - accuracy: 1.0000 - val_loss: 0.0045 - val_accuracy: 1.0000\n",
            "Epoch 49/50\n",
            "15/15 [==============================] - 1s 86ms/step - loss: 0.0211 - accuracy: 0.9958 - val_loss: 0.0349 - val_accuracy: 0.9750\n",
            "Epoch 50/50\n",
            "15/15 [==============================] - 1s 87ms/step - loss: 0.0313 - accuracy: 0.9916 - val_loss: 0.0048 - val_accuracy: 1.0000\n"
          ]
        },
        {
          "data": {
            "text/plain": [
              "<keras.callbacks.History at 0x196e6a41250>"
            ]
          },
          "execution_count": 56,
          "metadata": {},
          "output_type": "execute_result"
        }
      ],
      "source": [
        "# image augmentation technique to enrich our dataset(training set) without adding more images so get good performance  results with little or no overfitting even with the small amount of images\n",
        "# used from keras documentation (flow_from_directory method)\n",
        "\n",
        "from keras.preprocessing.image import ImageDataGenerator\n",
        "batch_size = 32\n",
        "# image augmentation part\n",
        "train_datagen = ImageDataGenerator(rescale = 1./255,\n",
        "                                   shear_range = 0.2,\n",
        "                                   zoom_range = 0.2,\n",
        "                                   horizontal_flip = True)\n",
        "\n",
        "test_datagen = ImageDataGenerator(rescale = 1./255)\n",
        "\n",
        "# create training set\n",
        "# wanna get higher accuracy -> inccrease target_size\n",
        "training_set = train_datagen.flow_from_directory('C:\\\\Users\\VA\\Documents\\workspace\\dump_cnn\\dataset\\\\train',\n",
        "                                                 target_size = input_size,\n",
        "                                                 batch_size = batch_size,\n",
        "                                                 class_mode = 'categorical')\n",
        "\n",
        "# create test set\n",
        "# wanna get higher accuracy -> inccrease target_size\n",
        "test_set = test_datagen.flow_from_directory('C:\\\\Users\\VA\\Documents\\workspace\\dump_cnn\\dataset\\\\test',\n",
        "                                            target_size = input_size,\n",
        "                                            batch_size = batch_size,\n",
        "                                            class_mode = 'categorical')\n",
        "\n",
        "# fit the cnn model to the trainig set and testing it on the test set\n",
        "model.fit(training_set,\n",
        "          steps_per_epoch = len(training_set),\n",
        "          epochs = 50,\n",
        "          validation_data = test_set,\n",
        "          validation_steps = len(test_set))"
      ]
    },
    {
      "cell_type": "code",
      "execution_count": 57,
      "metadata": {
        "colab": {},
        "colab_type": "code",
        "id": "zkpQ9_Bbdgug"
      },
      "outputs": [],
      "source": [
        "import numpy as np\n",
        "import keras.utils as image\n",
        "from keras.preprocessing import image"
      ]
    },
    {
      "cell_type": "code",
      "execution_count": 69,
      "metadata": {
        "colab": {},
        "colab_type": "code",
        "id": "OARxcBiKqhaP"
      },
      "outputs": [
        {
          "name": "stdout",
          "output_type": "stream",
          "text": [
            "1/1 [==============================] - 0s 17ms/step\n"
          ]
        }
      ],
      "source": [
        "test_image = image.load_img('C:\\\\Users\\VA\\Documents\\workspace\\dump_cnn\\dataset\\\\predict\\\\91.jpg', target_size= input_size)\n",
        "test_image = image.img_to_array(test_image)\n",
        "test_image = np.expand_dims(test_image, axis = 0)\n",
        "result = model.predict(test_image)\n",
        "test_image = test_image/255.0"
      ]
    },
    {
      "cell_type": "code",
      "execution_count": 70,
      "metadata": {},
      "outputs": [
        {
          "name": "stdout",
          "output_type": "stream",
          "text": [
            "1/1 [==============================] - 0s 17ms/step\n"
          ]
        }
      ],
      "source": [
        "predictions = model.predict(test_image)"
      ]
    },
    {
      "cell_type": "code",
      "execution_count": 71,
      "metadata": {},
      "outputs": [],
      "source": [
        "class_index = np.argmax(predictions)\n",
        "class_label = training_set.class_indices\n",
        "predicted_class = list(class_label.keys())[list(class_label.values()).index(class_index)]"
      ]
    },
    {
      "cell_type": "code",
      "execution_count": 72,
      "metadata": {},
      "outputs": [
        {
          "name": "stdout",
          "output_type": "stream",
          "text": [
            "Predicted class: limapuluh\n",
            "Class probabilities: [[1.0728677e-08 1.0000000e+00 6.5786765e-10]]\n"
          ]
        }
      ],
      "source": [
        "print(\"Predicted class:\", predicted_class)\n",
        "print(\"Class probabilities:\", predictions)"
      ]
    },
    {
      "cell_type": "code",
      "execution_count": 59,
      "metadata": {
        "colab": {
          "base_uri": "https://localhost:8080/",
          "height": 35
        },
        "colab_type": "code",
        "id": "yephYECUq3BH",
        "outputId": "aa6219cf-0719-4857-c100-becf44791bec"
      },
      "outputs": [
        {
          "data": {
            "text/plain": [
              "{'duapuluh': 0, 'limapuluh': 1, 'seratus': 2}"
            ]
          },
          "execution_count": 59,
          "metadata": {},
          "output_type": "execute_result"
        }
      ],
      "source": [
        "training_set.class_indices"
      ]
    },
    {
      "cell_type": "code",
      "execution_count": 60,
      "metadata": {},
      "outputs": [
        {
          "data": {
            "text/plain": [
              "0.0"
            ]
          },
          "execution_count": 60,
          "metadata": {},
          "output_type": "execute_result"
        }
      ],
      "source": [
        "result[0][0]"
      ]
    },
    {
      "cell_type": "code",
      "execution_count": 61,
      "metadata": {},
      "outputs": [
        {
          "data": {
            "text/plain": [
              "array([[0., 0., 1.]], dtype=float32)"
            ]
          },
          "execution_count": 61,
          "metadata": {},
          "output_type": "execute_result"
        }
      ],
      "source": [
        "result"
      ]
    },
    {
      "cell_type": "code",
      "execution_count": 62,
      "metadata": {
        "colab": {},
        "colab_type": "code",
        "id": "KwfR3qnDr2D2"
      },
      "outputs": [],
      "source": [
        "if result [0][0] == 0:\n",
        "  prediction = 'duapuluh'\n",
        "elif result [0][0] == 1:\n",
        "  prediction = \"limapuluh\"\n",
        "else:\n",
        "  prediction = 'seratus'"
      ]
    },
    {
      "cell_type": "code",
      "execution_count": 63,
      "metadata": {
        "colab": {
          "base_uri": "https://localhost:8080/",
          "height": 35
        },
        "colab_type": "code",
        "id": "T-LuaKWdsKIn",
        "outputId": "a91c3848-85c5-4f31-b968-5ec070d6d1fa"
      },
      "outputs": [
        {
          "data": {
            "text/plain": [
              "'duapuluh'"
            ]
          },
          "execution_count": 63,
          "metadata": {},
          "output_type": "execute_result"
        }
      ],
      "source": [
        "prediction"
      ]
    },
    {
      "attachments": {},
      "cell_type": "markdown",
      "metadata": {},
      "source": [
        "Accuracy : 0.98"
      ]
    },
    {
      "cell_type": "markdown",
      "metadata": {},
      "source": []
    }
  ],
  "metadata": {
    "accelerator": "GPU",
    "colab": {
      "authorship_tag": "ABX9TyMH4CbnVnrPqPPnZWyDXl/2",
      "collapsed_sections": [],
      "include_colab_link": true,
      "name": "cnn_for_image_classification.ipynb",
      "provenance": []
    },
    "kernelspec": {
      "display_name": "Python 3",
      "name": "python3"
    },
    "language_info": {
      "codemirror_mode": {
        "name": "ipython",
        "version": 3
      },
      "file_extension": ".py",
      "mimetype": "text/x-python",
      "name": "python",
      "nbconvert_exporter": "python",
      "pygments_lexer": "ipython3",
      "version": "3.11.3"
    }
  },
  "nbformat": 4,
  "nbformat_minor": 0
}
